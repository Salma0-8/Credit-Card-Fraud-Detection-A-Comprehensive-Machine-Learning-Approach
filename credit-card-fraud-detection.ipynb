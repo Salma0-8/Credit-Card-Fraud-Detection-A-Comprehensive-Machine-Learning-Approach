{
 "cells": [
  {
   "cell_type": "code",
   "execution_count": 1,
   "id": "a0872c1c",
   "metadata": {
    "_cell_guid": "b1076dfc-b9ad-4769-8c92-a6c4dae69d19",
    "_uuid": "8f2839f25d086af736a60e9eeb907d3b93b6e0e5",
    "execution": {
     "iopub.execute_input": "2025-02-16T09:41:38.814368Z",
     "iopub.status.busy": "2025-02-16T09:41:38.814019Z",
     "iopub.status.idle": "2025-02-16T09:41:39.762497Z",
     "shell.execute_reply": "2025-02-16T09:41:39.761204Z"
    },
    "papermill": {
     "duration": 0.958529,
     "end_time": "2025-02-16T09:41:39.764459",
     "exception": false,
     "start_time": "2025-02-16T09:41:38.805930",
     "status": "completed"
    },
    "tags": []
   },
   "outputs": [
    {
     "name": "stdout",
     "output_type": "stream",
     "text": [
      "/kaggle/input/creditcardfraud/creditcard.csv\n"
     ]
    }
   ],
   "source": [
    "# This Python 3 environment comes with many helpful analytics libraries installed\n",
    "# It is defined by the kaggle/python Docker image: https://github.com/kaggle/docker-python\n",
    "# For example, here's several helpful packages to load\n",
    "\n",
    "import numpy as np # linear algebra\n",
    "import pandas as pd # data processing, CSV file I/O (e.g. pd.read_csv)\n",
    "\n",
    "# Input data files are available in the read-only \"../input/\" directory\n",
    "# For example, running this (by clicking run or pressing Shift+Enter) will list all files under the input directory\n",
    "\n",
    "import os\n",
    "for dirname, _, filenames in os.walk('/kaggle/input'):\n",
    "    for filename in filenames:\n",
    "        print(os.path.join(dirname, filename))\n",
    "\n",
    "# You can write up to 20GB to the current directory (/kaggle/working/) that gets preserved as output when you create a version using \"Save & Run All\" \n",
    "# You can also write temporary files to /kaggle/temp/, but they won't be saved outside of the current session"
   ]
  },
  {
   "cell_type": "code",
   "execution_count": 2,
   "id": "df4c4710",
   "metadata": {
    "execution": {
     "iopub.execute_input": "2025-02-16T09:41:39.777782Z",
     "iopub.status.busy": "2025-02-16T09:41:39.777256Z",
     "iopub.status.idle": "2025-02-16T09:41:41.593960Z",
     "shell.execute_reply": "2025-02-16T09:41:41.592891Z"
    },
    "papermill": {
     "duration": 1.82518,
     "end_time": "2025-02-16T09:41:41.595928",
     "exception": false,
     "start_time": "2025-02-16T09:41:39.770748",
     "status": "completed"
    },
    "tags": []
   },
   "outputs": [],
   "source": [
    "import numpy as np\n",
    "import pandas as pd\n",
    "import matplotlib.pyplot as plt\n",
    "import seaborn as sns\n",
    "from collections import Counter\n",
    "import warnings\n",
    "warnings.filterwarnings(\"ignore\")"
   ]
  },
  {
   "cell_type": "code",
   "execution_count": 3,
   "id": "e78d3aac",
   "metadata": {
    "execution": {
     "iopub.execute_input": "2025-02-16T09:41:41.609452Z",
     "iopub.status.busy": "2025-02-16T09:41:41.608866Z",
     "iopub.status.idle": "2025-02-16T09:41:45.693682Z",
     "shell.execute_reply": "2025-02-16T09:41:45.692649Z"
    },
    "papermill": {
     "duration": 4.093279,
     "end_time": "2025-02-16T09:41:45.695330",
     "exception": false,
     "start_time": "2025-02-16T09:41:41.602051",
     "status": "completed"
    },
    "tags": []
   },
   "outputs": [
    {
     "data": {
      "text/html": [
       "<div>\n",
       "<style scoped>\n",
       "    .dataframe tbody tr th:only-of-type {\n",
       "        vertical-align: middle;\n",
       "    }\n",
       "\n",
       "    .dataframe tbody tr th {\n",
       "        vertical-align: top;\n",
       "    }\n",
       "\n",
       "    .dataframe thead th {\n",
       "        text-align: right;\n",
       "    }\n",
       "</style>\n",
       "<table border=\"1\" class=\"dataframe\">\n",
       "  <thead>\n",
       "    <tr style=\"text-align: right;\">\n",
       "      <th></th>\n",
       "      <th>Time</th>\n",
       "      <th>V1</th>\n",
       "      <th>V2</th>\n",
       "      <th>V3</th>\n",
       "      <th>V4</th>\n",
       "      <th>V5</th>\n",
       "      <th>V6</th>\n",
       "      <th>V7</th>\n",
       "      <th>V8</th>\n",
       "      <th>V9</th>\n",
       "      <th>...</th>\n",
       "      <th>V21</th>\n",
       "      <th>V22</th>\n",
       "      <th>V23</th>\n",
       "      <th>V24</th>\n",
       "      <th>V25</th>\n",
       "      <th>V26</th>\n",
       "      <th>V27</th>\n",
       "      <th>V28</th>\n",
       "      <th>Amount</th>\n",
       "      <th>Class</th>\n",
       "    </tr>\n",
       "  </thead>\n",
       "  <tbody>\n",
       "    <tr>\n",
       "      <th>0</th>\n",
       "      <td>0.0</td>\n",
       "      <td>-1.359807</td>\n",
       "      <td>-0.072781</td>\n",
       "      <td>2.536347</td>\n",
       "      <td>1.378155</td>\n",
       "      <td>-0.338321</td>\n",
       "      <td>0.462388</td>\n",
       "      <td>0.239599</td>\n",
       "      <td>0.098698</td>\n",
       "      <td>0.363787</td>\n",
       "      <td>...</td>\n",
       "      <td>-0.018307</td>\n",
       "      <td>0.277838</td>\n",
       "      <td>-0.110474</td>\n",
       "      <td>0.066928</td>\n",
       "      <td>0.128539</td>\n",
       "      <td>-0.189115</td>\n",
       "      <td>0.133558</td>\n",
       "      <td>-0.021053</td>\n",
       "      <td>149.62</td>\n",
       "      <td>0</td>\n",
       "    </tr>\n",
       "    <tr>\n",
       "      <th>1</th>\n",
       "      <td>0.0</td>\n",
       "      <td>1.191857</td>\n",
       "      <td>0.266151</td>\n",
       "      <td>0.166480</td>\n",
       "      <td>0.448154</td>\n",
       "      <td>0.060018</td>\n",
       "      <td>-0.082361</td>\n",
       "      <td>-0.078803</td>\n",
       "      <td>0.085102</td>\n",
       "      <td>-0.255425</td>\n",
       "      <td>...</td>\n",
       "      <td>-0.225775</td>\n",
       "      <td>-0.638672</td>\n",
       "      <td>0.101288</td>\n",
       "      <td>-0.339846</td>\n",
       "      <td>0.167170</td>\n",
       "      <td>0.125895</td>\n",
       "      <td>-0.008983</td>\n",
       "      <td>0.014724</td>\n",
       "      <td>2.69</td>\n",
       "      <td>0</td>\n",
       "    </tr>\n",
       "    <tr>\n",
       "      <th>2</th>\n",
       "      <td>1.0</td>\n",
       "      <td>-1.358354</td>\n",
       "      <td>-1.340163</td>\n",
       "      <td>1.773209</td>\n",
       "      <td>0.379780</td>\n",
       "      <td>-0.503198</td>\n",
       "      <td>1.800499</td>\n",
       "      <td>0.791461</td>\n",
       "      <td>0.247676</td>\n",
       "      <td>-1.514654</td>\n",
       "      <td>...</td>\n",
       "      <td>0.247998</td>\n",
       "      <td>0.771679</td>\n",
       "      <td>0.909412</td>\n",
       "      <td>-0.689281</td>\n",
       "      <td>-0.327642</td>\n",
       "      <td>-0.139097</td>\n",
       "      <td>-0.055353</td>\n",
       "      <td>-0.059752</td>\n",
       "      <td>378.66</td>\n",
       "      <td>0</td>\n",
       "    </tr>\n",
       "    <tr>\n",
       "      <th>3</th>\n",
       "      <td>1.0</td>\n",
       "      <td>-0.966272</td>\n",
       "      <td>-0.185226</td>\n",
       "      <td>1.792993</td>\n",
       "      <td>-0.863291</td>\n",
       "      <td>-0.010309</td>\n",
       "      <td>1.247203</td>\n",
       "      <td>0.237609</td>\n",
       "      <td>0.377436</td>\n",
       "      <td>-1.387024</td>\n",
       "      <td>...</td>\n",
       "      <td>-0.108300</td>\n",
       "      <td>0.005274</td>\n",
       "      <td>-0.190321</td>\n",
       "      <td>-1.175575</td>\n",
       "      <td>0.647376</td>\n",
       "      <td>-0.221929</td>\n",
       "      <td>0.062723</td>\n",
       "      <td>0.061458</td>\n",
       "      <td>123.50</td>\n",
       "      <td>0</td>\n",
       "    </tr>\n",
       "    <tr>\n",
       "      <th>4</th>\n",
       "      <td>2.0</td>\n",
       "      <td>-1.158233</td>\n",
       "      <td>0.877737</td>\n",
       "      <td>1.548718</td>\n",
       "      <td>0.403034</td>\n",
       "      <td>-0.407193</td>\n",
       "      <td>0.095921</td>\n",
       "      <td>0.592941</td>\n",
       "      <td>-0.270533</td>\n",
       "      <td>0.817739</td>\n",
       "      <td>...</td>\n",
       "      <td>-0.009431</td>\n",
       "      <td>0.798278</td>\n",
       "      <td>-0.137458</td>\n",
       "      <td>0.141267</td>\n",
       "      <td>-0.206010</td>\n",
       "      <td>0.502292</td>\n",
       "      <td>0.219422</td>\n",
       "      <td>0.215153</td>\n",
       "      <td>69.99</td>\n",
       "      <td>0</td>\n",
       "    </tr>\n",
       "  </tbody>\n",
       "</table>\n",
       "<p>5 rows × 31 columns</p>\n",
       "</div>"
      ],
      "text/plain": [
       "   Time        V1        V2        V3        V4        V5        V6        V7  \\\n",
       "0   0.0 -1.359807 -0.072781  2.536347  1.378155 -0.338321  0.462388  0.239599   \n",
       "1   0.0  1.191857  0.266151  0.166480  0.448154  0.060018 -0.082361 -0.078803   \n",
       "2   1.0 -1.358354 -1.340163  1.773209  0.379780 -0.503198  1.800499  0.791461   \n",
       "3   1.0 -0.966272 -0.185226  1.792993 -0.863291 -0.010309  1.247203  0.237609   \n",
       "4   2.0 -1.158233  0.877737  1.548718  0.403034 -0.407193  0.095921  0.592941   \n",
       "\n",
       "         V8        V9  ...       V21       V22       V23       V24       V25  \\\n",
       "0  0.098698  0.363787  ... -0.018307  0.277838 -0.110474  0.066928  0.128539   \n",
       "1  0.085102 -0.255425  ... -0.225775 -0.638672  0.101288 -0.339846  0.167170   \n",
       "2  0.247676 -1.514654  ...  0.247998  0.771679  0.909412 -0.689281 -0.327642   \n",
       "3  0.377436 -1.387024  ... -0.108300  0.005274 -0.190321 -1.175575  0.647376   \n",
       "4 -0.270533  0.817739  ... -0.009431  0.798278 -0.137458  0.141267 -0.206010   \n",
       "\n",
       "        V26       V27       V28  Amount  Class  \n",
       "0 -0.189115  0.133558 -0.021053  149.62      0  \n",
       "1  0.125895 -0.008983  0.014724    2.69      0  \n",
       "2 -0.139097 -0.055353 -0.059752  378.66      0  \n",
       "3 -0.221929  0.062723  0.061458  123.50      0  \n",
       "4  0.502292  0.219422  0.215153   69.99      0  \n",
       "\n",
       "[5 rows x 31 columns]"
      ]
     },
     "execution_count": 3,
     "metadata": {},
     "output_type": "execute_result"
    }
   ],
   "source": [
    "file_path = \"/kaggle/input/creditcardfraud/creditcard.csv\"\n",
    "df = pd.read_csv(file_path)\n",
    "df.head()"
   ]
  },
  {
   "cell_type": "code",
   "execution_count": 4,
   "id": "079b1a06",
   "metadata": {
    "execution": {
     "iopub.execute_input": "2025-02-16T09:41:45.713123Z",
     "iopub.status.busy": "2025-02-16T09:41:45.712602Z",
     "iopub.status.idle": "2025-02-16T09:41:45.758211Z",
     "shell.execute_reply": "2025-02-16T09:41:45.757143Z"
    },
    "papermill": {
     "duration": 0.056994,
     "end_time": "2025-02-16T09:41:45.760006",
     "exception": false,
     "start_time": "2025-02-16T09:41:45.703012",
     "status": "completed"
    },
    "tags": []
   },
   "outputs": [
    {
     "data": {
      "text/plain": [
       "Time      0\n",
       "V1        0\n",
       "V2        0\n",
       "V3        0\n",
       "V4        0\n",
       "V5        0\n",
       "V6        0\n",
       "V7        0\n",
       "V8        0\n",
       "V9        0\n",
       "V10       0\n",
       "V11       0\n",
       "V12       0\n",
       "V13       0\n",
       "V14       0\n",
       "V15       0\n",
       "V16       0\n",
       "V17       0\n",
       "V18       0\n",
       "V19       0\n",
       "V20       0\n",
       "V21       0\n",
       "V22       0\n",
       "V23       0\n",
       "V24       0\n",
       "V25       0\n",
       "V26       0\n",
       "V27       0\n",
       "V28       0\n",
       "Amount    0\n",
       "Class     0\n",
       "dtype: int64"
      ]
     },
     "execution_count": 4,
     "metadata": {},
     "output_type": "execute_result"
    }
   ],
   "source": [
    "df.isnull().sum()"
   ]
  },
  {
   "cell_type": "markdown",
   "id": "94d3407a",
   "metadata": {
    "papermill": {
     "duration": 0.006234,
     "end_time": "2025-02-16T09:41:45.773379",
     "exception": false,
     "start_time": "2025-02-16T09:41:45.767145",
     "status": "completed"
    },
    "tags": []
   },
   "source": [
    "**📌 Check Class Distribution**"
   ]
  },
  {
   "cell_type": "code",
   "execution_count": 5,
   "id": "c3b15370",
   "metadata": {
    "execution": {
     "iopub.execute_input": "2025-02-16T09:41:45.787244Z",
     "iopub.status.busy": "2025-02-16T09:41:45.786810Z",
     "iopub.status.idle": "2025-02-16T09:41:46.043052Z",
     "shell.execute_reply": "2025-02-16T09:41:46.041692Z"
    },
    "papermill": {
     "duration": 0.265027,
     "end_time": "2025-02-16T09:41:46.044716",
     "exception": false,
     "start_time": "2025-02-16T09:41:45.779689",
     "status": "completed"
    },
    "tags": []
   },
   "outputs": [
    {
     "name": "stdout",
     "output_type": "stream",
     "text": [
      "Class distribution:\n",
      " Class\n",
      "0    284315\n",
      "1       492\n",
      "Name: count, dtype: int64\n"
     ]
    },
    {
     "data": {
      "image/png": "[encoded data removed]",
      "text/plain": [
       "<Figure size 600x400 with 1 Axes>"
      ]
     },
     "metadata": {},
     "output_type": "display_data"
    }
   ],
   "source": [
    "# Count the number of fraud (1) and non-fraud (0) cases\n",
    "class_counts = df[\"Class\"].value_counts()\n",
    "print(\"Class distribution:\\n\", class_counts)\n",
    "\n",
    "# Visualize class distribution\n",
    "plt.figure(figsize=(6,4))\n",
    "sns.barplot(x=class_counts.index, y=class_counts.values, palette=\"viridis\")\n",
    "plt.xticks([0, 1], [\"Non-Fraud (0)\", \"Fraud (1)\"])\n",
    "plt.ylabel(\"Count\")\n",
    "plt.title(\"Class Distribution\")\n",
    "plt.show()"
   ]
  },
  {
   "cell_type": "markdown",
   "id": "bfa60445",
   "metadata": {
    "papermill": {
     "duration": 0.006509,
     "end_time": "2025-02-16T09:41:46.058654",
     "exception": false,
     "start_time": "2025-02-16T09:41:46.052145",
     "status": "completed"
    },
    "tags": []
   },
   "source": [
    "> Since the dataset is highly imbalanced (fraud cases are much fewer than non-fraud cases), we need to handle this later."
   ]
  },
  {
   "cell_type": "markdown",
   "id": "526c5212",
   "metadata": {
    "papermill": {
     "duration": 0.006919,
     "end_time": "2025-02-16T09:41:46.073186",
     "exception": false,
     "start_time": "2025-02-16T09:41:46.066267",
     "status": "completed"
    },
    "tags": []
   },
   "source": [
    "***Step 2: Data Preprocessing***"
   ]
  },
  {
   "cell_type": "markdown",
   "id": "5b494444",
   "metadata": {
    "papermill": {
     "duration": 0.006756,
     "end_time": "2025-02-16T09:41:46.086646",
     "exception": false,
     "start_time": "2025-02-16T09:41:46.079890",
     "status": "completed"
    },
    "tags": []
   },
   "source": [
    "* Drop duplicates (if any)\n",
    "* Normalize the Amount and Time columns"
   ]
  },
  {
   "cell_type": "code",
   "execution_count": 6,
   "id": "f4149cf8",
   "metadata": {
    "execution": {
     "iopub.execute_input": "2025-02-16T09:41:46.101568Z",
     "iopub.status.busy": "2025-02-16T09:41:46.101169Z",
     "iopub.status.idle": "2025-02-16T09:41:47.861459Z",
     "shell.execute_reply": "2025-02-16T09:41:47.860057Z"
    },
    "papermill": {
     "duration": 1.770146,
     "end_time": "2025-02-16T09:41:47.863484",
     "exception": false,
     "start_time": "2025-02-16T09:41:46.093338",
     "status": "completed"
    },
    "tags": []
   },
   "outputs": [
    {
     "name": "stdout",
     "output_type": "stream",
     "text": [
      "Duplicate rows: 1081\n",
      "New shape of dataset: (283726, 31)\n"
     ]
    }
   ],
   "source": [
    "print(\"Duplicate rows:\", df.duplicated().sum())\n",
    "df = df.drop_duplicates()\n",
    "print(\"New shape of dataset:\", df.shape)"
   ]
  },
  {
   "cell_type": "code",
   "execution_count": 7,
   "id": "0e7d2a18",
   "metadata": {
    "execution": {
     "iopub.execute_input": "2025-02-16T09:41:47.878816Z",
     "iopub.status.busy": "2025-02-16T09:41:47.878375Z",
     "iopub.status.idle": "2025-02-16T09:41:48.099623Z",
     "shell.execute_reply": "2025-02-16T09:41:48.098506Z"
    },
    "papermill": {
     "duration": 0.23085,
     "end_time": "2025-02-16T09:41:48.101377",
     "exception": false,
     "start_time": "2025-02-16T09:41:47.870527",
     "status": "completed"
    },
    "tags": []
   },
   "outputs": [
    {
     "data": {
      "text/html": [
       "<div>\n",
       "<style scoped>\n",
       "    .dataframe tbody tr th:only-of-type {\n",
       "        vertical-align: middle;\n",
       "    }\n",
       "\n",
       "    .dataframe tbody tr th {\n",
       "        vertical-align: top;\n",
       "    }\n",
       "\n",
       "    .dataframe thead th {\n",
       "        text-align: right;\n",
       "    }\n",
       "</style>\n",
       "<table border=\"1\" class=\"dataframe\">\n",
       "  <thead>\n",
       "    <tr style=\"text-align: right;\">\n",
       "      <th></th>\n",
       "      <th>Time</th>\n",
       "      <th>V1</th>\n",
       "      <th>V2</th>\n",
       "      <th>V3</th>\n",
       "      <th>V4</th>\n",
       "      <th>V5</th>\n",
       "      <th>V6</th>\n",
       "      <th>V7</th>\n",
       "      <th>V8</th>\n",
       "      <th>V9</th>\n",
       "      <th>...</th>\n",
       "      <th>V21</th>\n",
       "      <th>V22</th>\n",
       "      <th>V23</th>\n",
       "      <th>V24</th>\n",
       "      <th>V25</th>\n",
       "      <th>V26</th>\n",
       "      <th>V27</th>\n",
       "      <th>V28</th>\n",
       "      <th>Amount</th>\n",
       "      <th>Class</th>\n",
       "    </tr>\n",
       "  </thead>\n",
       "  <tbody>\n",
       "    <tr>\n",
       "      <th>0</th>\n",
       "      <td>-1.996823</td>\n",
       "      <td>-1.359807</td>\n",
       "      <td>-0.072781</td>\n",
       "      <td>2.536347</td>\n",
       "      <td>1.378155</td>\n",
       "      <td>-0.338321</td>\n",
       "      <td>0.462388</td>\n",
       "      <td>0.239599</td>\n",
       "      <td>0.098698</td>\n",
       "      <td>0.363787</td>\n",
       "      <td>...</td>\n",
       "      <td>-0.018307</td>\n",
       "      <td>0.277838</td>\n",
       "      <td>-0.110474</td>\n",
       "      <td>0.066928</td>\n",
       "      <td>0.128539</td>\n",
       "      <td>-0.189115</td>\n",
       "      <td>0.133558</td>\n",
       "      <td>-0.021053</td>\n",
       "      <td>0.244200</td>\n",
       "      <td>0</td>\n",
       "    </tr>\n",
       "    <tr>\n",
       "      <th>1</th>\n",
       "      <td>-1.996823</td>\n",
       "      <td>1.191857</td>\n",
       "      <td>0.266151</td>\n",
       "      <td>0.166480</td>\n",
       "      <td>0.448154</td>\n",
       "      <td>0.060018</td>\n",
       "      <td>-0.082361</td>\n",
       "      <td>-0.078803</td>\n",
       "      <td>0.085102</td>\n",
       "      <td>-0.255425</td>\n",
       "      <td>...</td>\n",
       "      <td>-0.225775</td>\n",
       "      <td>-0.638672</td>\n",
       "      <td>0.101288</td>\n",
       "      <td>-0.339846</td>\n",
       "      <td>0.167170</td>\n",
       "      <td>0.125895</td>\n",
       "      <td>-0.008983</td>\n",
       "      <td>0.014724</td>\n",
       "      <td>-0.342584</td>\n",
       "      <td>0</td>\n",
       "    </tr>\n",
       "    <tr>\n",
       "      <th>2</th>\n",
       "      <td>-1.996802</td>\n",
       "      <td>-1.358354</td>\n",
       "      <td>-1.340163</td>\n",
       "      <td>1.773209</td>\n",
       "      <td>0.379780</td>\n",
       "      <td>-0.503198</td>\n",
       "      <td>1.800499</td>\n",
       "      <td>0.791461</td>\n",
       "      <td>0.247676</td>\n",
       "      <td>-1.514654</td>\n",
       "      <td>...</td>\n",
       "      <td>0.247998</td>\n",
       "      <td>0.771679</td>\n",
       "      <td>0.909412</td>\n",
       "      <td>-0.689281</td>\n",
       "      <td>-0.327642</td>\n",
       "      <td>-0.139097</td>\n",
       "      <td>-0.055353</td>\n",
       "      <td>-0.059752</td>\n",
       "      <td>1.158900</td>\n",
       "      <td>0</td>\n",
       "    </tr>\n",
       "    <tr>\n",
       "      <th>3</th>\n",
       "      <td>-1.996802</td>\n",
       "      <td>-0.966272</td>\n",
       "      <td>-0.185226</td>\n",
       "      <td>1.792993</td>\n",
       "      <td>-0.863291</td>\n",
       "      <td>-0.010309</td>\n",
       "      <td>1.247203</td>\n",
       "      <td>0.237609</td>\n",
       "      <td>0.377436</td>\n",
       "      <td>-1.387024</td>\n",
       "      <td>...</td>\n",
       "      <td>-0.108300</td>\n",
       "      <td>0.005274</td>\n",
       "      <td>-0.190321</td>\n",
       "      <td>-1.175575</td>\n",
       "      <td>0.647376</td>\n",
       "      <td>-0.221929</td>\n",
       "      <td>0.062723</td>\n",
       "      <td>0.061458</td>\n",
       "      <td>0.139886</td>\n",
       "      <td>0</td>\n",
       "    </tr>\n",
       "    <tr>\n",
       "      <th>4</th>\n",
       "      <td>-1.996781</td>\n",
       "      <td>-1.158233</td>\n",
       "      <td>0.877737</td>\n",
       "      <td>1.548718</td>\n",
       "      <td>0.403034</td>\n",
       "      <td>-0.407193</td>\n",
       "      <td>0.095921</td>\n",
       "      <td>0.592941</td>\n",
       "      <td>-0.270533</td>\n",
       "      <td>0.817739</td>\n",
       "      <td>...</td>\n",
       "      <td>-0.009431</td>\n",
       "      <td>0.798278</td>\n",
       "      <td>-0.137458</td>\n",
       "      <td>0.141267</td>\n",
       "      <td>-0.206010</td>\n",
       "      <td>0.502292</td>\n",
       "      <td>0.219422</td>\n",
       "      <td>0.215153</td>\n",
       "      <td>-0.073813</td>\n",
       "      <td>0</td>\n",
       "    </tr>\n",
       "  </tbody>\n",
       "</table>\n",
       "<p>5 rows × 31 columns</p>\n",
       "</div>"
      ],
      "text/plain": [
       "       Time        V1        V2        V3        V4        V5        V6  \\\n",
       "0 -1.996823 -1.359807 -0.072781  2.536347  1.378155 -0.338321  0.462388   \n",
       "1 -1.996823  1.191857  0.266151  0.166480  0.448154  0.060018 -0.082361   \n",
       "2 -1.996802 -1.358354 -1.340163  1.773209  0.379780 -0.503198  1.800499   \n",
       "3 -1.996802 -0.966272 -0.185226  1.792993 -0.863291 -0.010309  1.247203   \n",
       "4 -1.996781 -1.158233  0.877737  1.548718  0.403034 -0.407193  0.095921   \n",
       "\n",
       "         V7        V8        V9  ...       V21       V22       V23       V24  \\\n",
       "0  0.239599  0.098698  0.363787  ... -0.018307  0.277838 -0.110474  0.066928   \n",
       "1 -0.078803  0.085102 -0.255425  ... -0.225775 -0.638672  0.101288 -0.339846   \n",
       "2  0.791461  0.247676 -1.514654  ...  0.247998  0.771679  0.909412 -0.689281   \n",
       "3  0.237609  0.377436 -1.387024  ... -0.108300  0.005274 -0.190321 -1.175575   \n",
       "4  0.592941 -0.270533  0.817739  ... -0.009431  0.798278 -0.137458  0.141267   \n",
       "\n",
       "        V25       V26       V27       V28    Amount  Class  \n",
       "0  0.128539 -0.189115  0.133558 -0.021053  0.244200      0  \n",
       "1  0.167170  0.125895 -0.008983  0.014724 -0.342584      0  \n",
       "2 -0.327642 -0.139097 -0.055353 -0.059752  1.158900      0  \n",
       "3  0.647376 -0.221929  0.062723  0.061458  0.139886      0  \n",
       "4 -0.206010  0.502292  0.219422  0.215153 -0.073813      0  \n",
       "\n",
       "[5 rows x 31 columns]"
      ]
     },
     "execution_count": 7,
     "metadata": {},
     "output_type": "execute_result"
    }
   ],
   "source": [
    "from sklearn.preprocessing import StandardScaler\n",
    "scaler = StandardScaler()\n",
    "df[\"Amount\"] = scaler.fit_transform(df[[\"Amount\"]])\n",
    "df[\"Time\"] = scaler.fit_transform(df[[\"Time\"]])\n",
    "df.head()"
   ]
  },
  {
   "cell_type": "markdown",
   "id": "4bdd8848",
   "metadata": {
    "papermill": {
     "duration": 0.006837,
     "end_time": "2025-02-16T09:41:48.115903",
     "exception": false,
     "start_time": "2025-02-16T09:41:48.109066",
     "status": "completed"
    },
    "tags": []
   },
   "source": [
    "***Step 3: Handling Class Imbalance***"
   ]
  },
  {
   "cell_type": "markdown",
   "id": "411a7ed3",
   "metadata": {
    "papermill": {
     "duration": 0.006977,
     "end_time": "2025-02-16T09:41:48.130012",
     "exception": false,
     "start_time": "2025-02-16T09:41:48.123035",
     "status": "completed"
    },
    "tags": []
   },
   "source": [
    "Since fraud cases are rare, will:\n",
    "\n",
    "* Undersample the majority class using NearMiss\n",
    "* Oversample the minority class using SMOTE"
   ]
  },
  {
   "cell_type": "markdown",
   "id": "37c2b351",
   "metadata": {
    "papermill": {
     "duration": 0.007311,
     "end_time": "2025-02-16T09:41:48.144907",
     "exception": false,
     "start_time": "2025-02-16T09:41:48.137596",
     "status": "completed"
    },
    "tags": []
   },
   "source": [
    "> 📌 Split Data into Features (X) and Target (y)"
   ]
  },
  {
   "cell_type": "code",
   "execution_count": 8,
   "id": "ed095c3c",
   "metadata": {
    "execution": {
     "iopub.execute_input": "2025-02-16T09:41:48.160588Z",
     "iopub.status.busy": "2025-02-16T09:41:48.160182Z",
     "iopub.status.idle": "2025-02-16T09:41:48.195659Z",
     "shell.execute_reply": "2025-02-16T09:41:48.194397Z"
    },
    "papermill": {
     "duration": 0.045588,
     "end_time": "2025-02-16T09:41:48.197740",
     "exception": false,
     "start_time": "2025-02-16T09:41:48.152152",
     "status": "completed"
    },
    "tags": []
   },
   "outputs": [],
   "source": [
    "X = df.drop(columns=[\"Class\"]) \n",
    "y = df[\"Class\"]"
   ]
  },
  {
   "cell_type": "markdown",
   "id": "8837b8c6",
   "metadata": {
    "papermill": {
     "duration": 0.007023,
     "end_time": "2025-02-16T09:41:48.212858",
     "exception": false,
     "start_time": "2025-02-16T09:41:48.205835",
     "status": "completed"
    },
    "tags": []
   },
   "source": [
    "> 📌 Use NearMiss (Undersampling)"
   ]
  },
  {
   "cell_type": "code",
   "execution_count": 9,
   "id": "d6b98ea1",
   "metadata": {
    "execution": {
     "iopub.execute_input": "2025-02-16T09:41:48.228517Z",
     "iopub.status.busy": "2025-02-16T09:41:48.228135Z",
     "iopub.status.idle": "2025-02-16T09:41:49.977399Z",
     "shell.execute_reply": "2025-02-16T09:41:49.976323Z"
    },
    "papermill": {
     "duration": 1.75913,
     "end_time": "2025-02-16T09:41:49.979140",
     "exception": false,
     "start_time": "2025-02-16T09:41:48.220010",
     "status": "completed"
    },
    "tags": []
   },
   "outputs": [
    {
     "name": "stdout",
     "output_type": "stream",
     "text": [
      "Class distribution after NearMiss: Counter({0: 473, 1: 473})\n"
     ]
    }
   ],
   "source": [
    "from imblearn.under_sampling import NearMiss\n",
    "\n",
    "nm = NearMiss(version=1)\n",
    "X_resampled, y_resampled = nm.fit_resample(X, y)\n",
    "print(\"Class distribution after NearMiss:\", Counter(y_resampled))"
   ]
  },
  {
   "cell_type": "markdown",
   "id": "d4061415",
   "metadata": {
    "papermill": {
     "duration": 0.007097,
     "end_time": "2025-02-16T09:41:49.993741",
     "exception": false,
     "start_time": "2025-02-16T09:41:49.986644",
     "status": "completed"
    },
    "tags": []
   },
   "source": [
    "> 📌 Use SMOTE (Oversampling)'"
   ]
  },
  {
   "cell_type": "code",
   "execution_count": 10,
   "id": "e649cc33",
   "metadata": {
    "execution": {
     "iopub.execute_input": "2025-02-16T09:41:50.010162Z",
     "iopub.status.busy": "2025-02-16T09:41:50.009605Z",
     "iopub.status.idle": "2025-02-16T09:41:50.468001Z",
     "shell.execute_reply": "2025-02-16T09:41:50.466687Z"
    },
    "papermill": {
     "duration": 0.468973,
     "end_time": "2025-02-16T09:41:50.470055",
     "exception": false,
     "start_time": "2025-02-16T09:41:50.001082",
     "status": "completed"
    },
    "tags": []
   },
   "outputs": [
    {
     "name": "stdout",
     "output_type": "stream",
     "text": [
      "Class distribution after SMOTE: Counter({0: 283253, 1: 141626})\n"
     ]
    }
   ],
   "source": [
    "from imblearn.over_sampling import SMOTE\n",
    "\n",
    "smote = SMOTE(sampling_strategy=0.5)  # Balance fraud cases to 50% of non-fraud cases\n",
    "X_smote, y_smote = smote.fit_resample(X, y)\n",
    "print(\"Class distribution after SMOTE:\", Counter(y_smote))"
   ]
  },
  {
   "cell_type": "markdown",
   "id": "b459ac9c",
   "metadata": {
    "papermill": {
     "duration": 0.007074,
     "end_time": "2025-02-16T09:41:50.485174",
     "exception": false,
     "start_time": "2025-02-16T09:41:50.478100",
     "status": "completed"
    },
    "tags": []
   },
   "source": [
    "***Step 4: Model Training***"
   ]
  },
  {
   "cell_type": "markdown",
   "id": "f64a9810",
   "metadata": {
    "papermill": {
     "duration": 0.007036,
     "end_time": "2025-02-16T09:41:50.499961",
     "exception": false,
     "start_time": "2025-02-16T09:41:50.492925",
     "status": "completed"
    },
    "tags": []
   },
   "source": [
    "Will train multiple classifiers:\n",
    "\n",
    "* Logistic Regression\n",
    "* Support Vector Machine (SVM)\n",
    "* Random Forest\n",
    "* Neural Network (Deep Learning)"
   ]
  },
  {
   "cell_type": "markdown",
   "id": "5b4db3e3",
   "metadata": {
    "papermill": {
     "duration": 0.00774,
     "end_time": "2025-02-16T09:41:50.514938",
     "exception": false,
     "start_time": "2025-02-16T09:41:50.507198",
     "status": "completed"
    },
    "tags": []
   },
   "source": [
    "> 📌 Split Data for Training & Testing"
   ]
  },
  {
   "cell_type": "code",
   "execution_count": 11,
   "id": "72880380",
   "metadata": {
    "execution": {
     "iopub.execute_input": "2025-02-16T09:41:50.531415Z",
     "iopub.status.busy": "2025-02-16T09:41:50.531074Z",
     "iopub.status.idle": "2025-02-16T09:41:50.947830Z",
     "shell.execute_reply": "2025-02-16T09:41:50.946479Z"
    },
    "papermill": {
     "duration": 0.427643,
     "end_time": "2025-02-16T09:41:50.950141",
     "exception": false,
     "start_time": "2025-02-16T09:41:50.522498",
     "status": "completed"
    },
    "tags": []
   },
   "outputs": [
    {
     "name": "stdout",
     "output_type": "stream",
     "text": [
      "Training set shape: (339903, 30)\n",
      "Test set shape: (84976, 30)\n"
     ]
    }
   ],
   "source": [
    "from sklearn.model_selection import train_test_split\n",
    "\n",
    "# Split dataset (80% training, 20% testing)\n",
    "X_train, X_test, y_train, y_test = train_test_split(X_smote, y_smote, test_size=0.2, stratify=y_smote, random_state=42)\n",
    "\n",
    "print(\"Training set shape:\", X_train.shape)\n",
    "print(\"Test set shape:\", X_test.shape)"
   ]
  },
  {
   "cell_type": "markdown",
   "id": "5144e9b2",
   "metadata": {
    "papermill": {
     "duration": 0.007365,
     "end_time": "2025-02-16T09:41:50.965514",
     "exception": false,
     "start_time": "2025-02-16T09:41:50.958149",
     "status": "completed"
    },
    "tags": []
   },
   "source": [
    "> 📌 Train Logistic Regression"
   ]
  },
  {
   "cell_type": "code",
   "execution_count": 12,
   "id": "cd2fb931",
   "metadata": {
    "execution": {
     "iopub.execute_input": "2025-02-16T09:41:50.981645Z",
     "iopub.status.busy": "2025-02-16T09:41:50.981233Z",
     "iopub.status.idle": "2025-02-16T09:41:52.752866Z",
     "shell.execute_reply": "2025-02-16T09:41:52.751480Z"
    },
    "papermill": {
     "duration": 1.781866,
     "end_time": "2025-02-16T09:41:52.754699",
     "exception": false,
     "start_time": "2025-02-16T09:41:50.972833",
     "status": "completed"
    },
    "tags": []
   },
   "outputs": [
    {
     "name": "stdout",
     "output_type": "stream",
     "text": [
      "              precision    recall  f1-score   support\n",
      "\n",
      "           0       0.95      0.99      0.97     56651\n",
      "           1       0.97      0.89      0.93     28325\n",
      "\n",
      "    accuracy                           0.96     84976\n",
      "   macro avg       0.96      0.94      0.95     84976\n",
      "weighted avg       0.96      0.96      0.96     84976\n",
      "\n"
     ]
    }
   ],
   "source": [
    "from sklearn.linear_model import LogisticRegression\n",
    "from sklearn.metrics import classification_report\n",
    "\n",
    "lr = LogisticRegression()\n",
    "lr.fit(X_train, y_train)\n",
    "\n",
    "# Predict\n",
    "y_pred_lr = lr.predict(X_test)\n",
    "\n",
    "# Evaluate\n",
    "print(classification_report(y_test, y_pred_lr))"
   ]
  },
  {
   "cell_type": "markdown",
   "id": "1488f615",
   "metadata": {
    "papermill": {
     "duration": 0.007412,
     "end_time": "2025-02-16T09:41:52.770126",
     "exception": false,
     "start_time": "2025-02-16T09:41:52.762714",
     "status": "completed"
    },
    "tags": []
   },
   "source": [
    "> 📌 Train Support Vector Machine (SVM)"
   ]
  },
  {
   "cell_type": "code",
   "execution_count": 13,
   "id": "ec750046",
   "metadata": {
    "execution": {
     "iopub.execute_input": "2025-02-16T09:41:52.786746Z",
     "iopub.status.busy": "2025-02-16T09:41:52.786330Z",
     "iopub.status.idle": "2025-02-16T13:08:14.768771Z",
     "shell.execute_reply": "2025-02-16T13:08:14.766971Z"
    },
    "papermill": {
     "duration": 12382.005839,
     "end_time": "2025-02-16T13:08:14.783684",
     "exception": false,
     "start_time": "2025-02-16T09:41:52.777845",
     "status": "completed"
    },
    "tags": []
   },
   "outputs": [
    {
     "name": "stdout",
     "output_type": "stream",
     "text": [
      "              precision    recall  f1-score   support\n",
      "\n",
      "           0       0.94      0.99      0.97     56651\n",
      "           1       0.98      0.88      0.93     28325\n",
      "\n",
      "    accuracy                           0.95     84976\n",
      "   macro avg       0.96      0.94      0.95     84976\n",
      "weighted avg       0.96      0.95      0.95     84976\n",
      "\n"
     ]
    }
   ],
   "source": [
    "from sklearn.svm import SVC\n",
    "\n",
    "svm = SVC(kernel=\"linear\")\n",
    "svm.fit(X_train, y_train)\n",
    "\n",
    "# Predict\n",
    "y_pred_svm = svm.predict(X_test)\n",
    "\n",
    "# Evaluate\n",
    "print(classification_report(y_test, y_pred_svm))"
   ]
  },
  {
   "cell_type": "markdown",
   "id": "7b2be615",
   "metadata": {
    "papermill": {
     "duration": 0.008286,
     "end_time": "2025-02-16T13:08:14.803994",
     "exception": false,
     "start_time": "2025-02-16T13:08:14.795708",
     "status": "completed"
    },
    "tags": []
   },
   "source": [
    "> 📌 Train Random Forest"
   ]
  },
  {
   "cell_type": "code",
   "execution_count": 14,
   "id": "e35ad25f",
   "metadata": {
    "execution": {
     "iopub.execute_input": "2025-02-16T13:08:14.823848Z",
     "iopub.status.busy": "2025-02-16T13:08:14.823216Z",
     "iopub.status.idle": "2025-02-16T13:14:13.182105Z",
     "shell.execute_reply": "2025-02-16T13:14:13.180780Z"
    },
    "papermill": {
     "duration": 358.378985,
     "end_time": "2025-02-16T13:14:13.191452",
     "exception": false,
     "start_time": "2025-02-16T13:08:14.812467",
     "status": "completed"
    },
    "tags": []
   },
   "outputs": [
    {
     "name": "stdout",
     "output_type": "stream",
     "text": [
      "              precision    recall  f1-score   support\n",
      "\n",
      "           0       1.00      1.00      1.00     56651\n",
      "           1       1.00      1.00      1.00     28325\n",
      "\n",
      "    accuracy                           1.00     84976\n",
      "   macro avg       1.00      1.00      1.00     84976\n",
      "weighted avg       1.00      1.00      1.00     84976\n",
      "\n"
     ]
    }
   ],
   "source": [
    "from sklearn.ensemble import RandomForestClassifier\n",
    "\n",
    "rf = RandomForestClassifier(n_estimators=100, random_state=42)\n",
    "rf.fit(X_train, y_train)\n",
    "\n",
    "# Predict\n",
    "y_pred_rf = rf.predict(X_test)\n",
    "\n",
    "# Evaluate\n",
    "print(classification_report(y_test, y_pred_rf))"
   ]
  },
  {
   "cell_type": "markdown",
   "id": "fdcdc106",
   "metadata": {
    "papermill": {
     "duration": 0.007788,
     "end_time": "2025-02-16T13:14:13.207493",
     "exception": false,
     "start_time": "2025-02-16T13:14:13.199705",
     "status": "completed"
    },
    "tags": []
   },
   "source": [
    "***Step 5: Deep Learning Model***"
   ]
  },
  {
   "cell_type": "markdown",
   "id": "134272c8",
   "metadata": {
    "papermill": {
     "duration": 0.007716,
     "end_time": "2025-02-16T13:14:13.223289",
     "exception": false,
     "start_time": "2025-02-16T13:14:13.215573",
     "status": "completed"
    },
    "tags": []
   },
   "source": [
    "> 📌 Build Neural Network"
   ]
  },
  {
   "cell_type": "code",
   "execution_count": 15,
   "id": "0bc1610c",
   "metadata": {
    "execution": {
     "iopub.execute_input": "2025-02-16T13:14:13.240875Z",
     "iopub.status.busy": "2025-02-16T13:14:13.240471Z",
     "iopub.status.idle": "2025-02-16T13:17:28.777171Z",
     "shell.execute_reply": "2025-02-16T13:17:28.775856Z"
    },
    "papermill": {
     "duration": 195.548097,
     "end_time": "2025-02-16T13:17:28.779241",
     "exception": false,
     "start_time": "2025-02-16T13:14:13.231144",
     "status": "completed"
    },
    "tags": []
   },
   "outputs": [
    {
     "name": "stdout",
     "output_type": "stream",
     "text": [
      "Epoch 1/10\n",
      "\u001b[1m10622/10622\u001b[0m \u001b[32m━━━━━━━━━━━━━━━━━━━━\u001b[0m\u001b[37m\u001b[0m \u001b[1m19s\u001b[0m 2ms/step - accuracy: 0.9818 - loss: 0.0515 - val_accuracy: 0.9977 - val_loss: 0.0078\n",
      "Epoch 2/10\n",
      "\u001b[1m10622/10622\u001b[0m \u001b[32m━━━━━━━━━━━━━━━━━━━━\u001b[0m\u001b[37m\u001b[0m \u001b[1m18s\u001b[0m 2ms/step - accuracy: 0.9983 - loss: 0.0073 - val_accuracy: 0.9986 - val_loss: 0.0051\n",
      "Epoch 3/10\n",
      "\u001b[1m10622/10622\u001b[0m \u001b[32m━━━━━━━━━━━━━━━━━━━━\u001b[0m\u001b[37m\u001b[0m \u001b[1m18s\u001b[0m 2ms/step - accuracy: 0.9990 - loss: 0.0044 - val_accuracy: 0.9992 - val_loss: 0.0033\n",
      "Epoch 4/10\n",
      "\u001b[1m10622/10622\u001b[0m \u001b[32m━━━━━━━━━━━━━━━━━━━━\u001b[0m\u001b[37m\u001b[0m \u001b[1m18s\u001b[0m 2ms/step - accuracy: 0.9991 - loss: 0.0036 - val_accuracy: 0.9993 - val_loss: 0.0028\n",
      "Epoch 5/10\n",
      "\u001b[1m10622/10622\u001b[0m \u001b[32m━━━━━━━━━━━━━━━━━━━━\u001b[0m\u001b[37m\u001b[0m \u001b[1m18s\u001b[0m 2ms/step - accuracy: 0.9992 - loss: 0.0032 - val_accuracy: 0.9993 - val_loss: 0.0027\n",
      "Epoch 6/10\n",
      "\u001b[1m10622/10622\u001b[0m \u001b[32m━━━━━━━━━━━━━━━━━━━━\u001b[0m\u001b[37m\u001b[0m \u001b[1m18s\u001b[0m 2ms/step - accuracy: 0.9995 - loss: 0.0025 - val_accuracy: 0.9993 - val_loss: 0.0025\n",
      "Epoch 7/10\n",
      "\u001b[1m10622/10622\u001b[0m \u001b[32m━━━━━━━━━━━━━━━━━━━━\u001b[0m\u001b[37m\u001b[0m \u001b[1m17s\u001b[0m 2ms/step - accuracy: 0.9995 - loss: 0.0022 - val_accuracy: 0.9993 - val_loss: 0.0027\n",
      "Epoch 8/10\n",
      "\u001b[1m10622/10622\u001b[0m \u001b[32m━━━━━━━━━━━━━━━━━━━━\u001b[0m\u001b[37m\u001b[0m \u001b[1m18s\u001b[0m 2ms/step - accuracy: 0.9994 - loss: 0.0023 - val_accuracy: 0.9996 - val_loss: 0.0020\n",
      "Epoch 9/10\n",
      "\u001b[1m10622/10622\u001b[0m \u001b[32m━━━━━━━━━━━━━━━━━━━━\u001b[0m\u001b[37m\u001b[0m \u001b[1m18s\u001b[0m 2ms/step - accuracy: 0.9995 - loss: 0.0019 - val_accuracy: 0.9994 - val_loss: 0.0024\n",
      "Epoch 10/10\n",
      "\u001b[1m10622/10622\u001b[0m \u001b[32m━━━━━━━━━━━━━━━━━━━━\u001b[0m\u001b[37m\u001b[0m \u001b[1m18s\u001b[0m 2ms/step - accuracy: 0.9996 - loss: 0.0017 - val_accuracy: 0.9996 - val_loss: 0.0016\n"
     ]
    },
    {
     "data": {
      "text/plain": [
       "<keras.src.callbacks.history.History at 0x7e16c9975930>"
      ]
     },
     "execution_count": 15,
     "metadata": {},
     "output_type": "execute_result"
    }
   ],
   "source": [
    "import tensorflow as tf\n",
    "from tensorflow.keras.models import Sequential\n",
    "from tensorflow.keras.layers import Dense\n",
    "\n",
    "# Define model\n",
    "model = Sequential([\n",
    "    Dense(64, activation='relu', input_shape=(X_train.shape[1],)),\n",
    "    Dense(32, activation='relu'),\n",
    "    Dense(1, activation='sigmoid')  # Binary classification (fraud or not)\n",
    "])\n",
    "\n",
    "# Compile model\n",
    "model.compile(optimizer='adam', loss='binary_crossentropy', metrics=['accuracy'])\n",
    "\n",
    "# Train model\n",
    "model.fit(X_train, y_train, epochs=10, batch_size=32, validation_data=(X_test, y_test))"
   ]
  },
  {
   "cell_type": "code",
   "execution_count": 16,
   "id": "0e3af1c2",
   "metadata": {
    "execution": {
     "iopub.execute_input": "2025-02-16T13:17:29.148289Z",
     "iopub.status.busy": "2025-02-16T13:17:29.147475Z",
     "iopub.status.idle": "2025-02-16T13:17:33.258892Z",
     "shell.execute_reply": "2025-02-16T13:17:33.257454Z"
    },
    "papermill": {
     "duration": 4.297741,
     "end_time": "2025-02-16T13:17:33.260753",
     "exception": false,
     "start_time": "2025-02-16T13:17:28.963012",
     "status": "completed"
    },
    "tags": []
   },
   "outputs": [
    {
     "name": "stdout",
     "output_type": "stream",
     "text": [
      "\u001b[1m2656/2656\u001b[0m \u001b[32m━━━━━━━━━━━━━━━━━━━━\u001b[0m\u001b[37m\u001b[0m \u001b[1m3s\u001b[0m 1ms/step\n",
      "              precision    recall  f1-score   support\n",
      "\n",
      "           0       1.00      1.00      1.00     56651\n",
      "           1       1.00      1.00      1.00     28325\n",
      "\n",
      "    accuracy                           1.00     84976\n",
      "   macro avg       1.00      1.00      1.00     84976\n",
      "weighted avg       1.00      1.00      1.00     84976\n",
      "\n"
     ]
    }
   ],
   "source": [
    "# Predict\n",
    "y_pred_nn = (model.predict(X_test) > 0.5).astype(\"int32\")\n",
    "\n",
    "# Evaluate\n",
    "print(classification_report(y_test, y_pred_nn))"
   ]
  },
  {
   "cell_type": "markdown",
   "id": "7e52b392",
   "metadata": {
    "papermill": {
     "duration": 0.194595,
     "end_time": "2025-02-16T13:17:33.640258",
     "exception": false,
     "start_time": "2025-02-16T13:17:33.445663",
     "status": "completed"
    },
    "tags": []
   },
   "source": [
    "***Step 6: Model Comparison***"
   ]
  },
  {
   "cell_type": "markdown",
   "id": "a1909b3e",
   "metadata": {
    "papermill": {
     "duration": 0.185724,
     "end_time": "2025-02-16T13:17:34.017684",
     "exception": false,
     "start_time": "2025-02-16T13:17:33.831960",
     "status": "completed"
    },
    "tags": []
   },
   "source": [
    "> AUC-PR (Precision-Recall Curve) across models"
   ]
  },
  {
   "cell_type": "code",
   "execution_count": 17,
   "id": "01f87164",
   "metadata": {
    "execution": {
     "iopub.execute_input": "2025-02-16T13:17:34.397473Z",
     "iopub.status.busy": "2025-02-16T13:17:34.397129Z",
     "iopub.status.idle": "2025-02-16T13:17:34.695243Z",
     "shell.execute_reply": "2025-02-16T13:17:34.694154Z"
    },
    "papermill": {
     "duration": 0.489188,
     "end_time": "2025-02-16T13:17:34.696921",
     "exception": false,
     "start_time": "2025-02-16T13:17:34.207733",
     "status": "completed"
    },
    "tags": []
   },
   "outputs": [
    {
     "data": {
      "image/png": "[encoded data removed]",
      "text/plain": [
       "<Figure size 600x500 with 1 Axes>"
      ]
     },
     "metadata": {},
     "output_type": "display_data"
    }
   ],
   "source": [
    "from sklearn.metrics import precision_recall_curve, auc\n",
    "\n",
    "# Calculate Precision-Recall AUC\n",
    "def plot_pr_curve(y_true, y_pred, label):\n",
    "    precision, recall, _ = precision_recall_curve(y_true, y_pred)\n",
    "    auc_pr = auc(recall, precision)\n",
    "    plt.plot(recall, precision, label=f\"{label} (AUC={auc_pr:.3f})\")\n",
    "\n",
    "plt.figure(figsize=(6, 5))\n",
    "plot_pr_curve(y_test, y_pred_lr, \"Logistic Regression\")\n",
    "plot_pr_curve(y_test, y_pred_svm, \"SVM\")\n",
    "plot_pr_curve(y_test, y_pred_rf, \"Random Forest\")\n",
    "plot_pr_curve(y_test, y_pred_nn, \"Neural Network\")\n",
    "\n",
    "plt.xlabel(\"Recall\")\n",
    "plt.ylabel(\"Precision\")\n",
    "plt.title(\"Precision-Recall Curve\")\n",
    "plt.legend()\n",
    "plt.show()"
   ]
  }
 ],
 "metadata": {
  "kaggle": {
   "accelerator": "none",
   "dataSources": [
    {
     "datasetId": 310,
     "sourceId": 23498,
     "sourceType": "datasetVersion"
    }
   ],
   "dockerImageVersionId": 30886,
   "isGpuEnabled": false,
   "isInternetEnabled": true,
   "language": "python",
   "sourceType": "notebook"
  },
  "kernelspec": {
   "display_name": "Python 3",
   "language": "python",
   "name": "python3"
  },
  "language_info": {
   "codemirror_mode": {
    "name": "ipython",
    "version": 3
   },
   "file_extension": ".py",
   "mimetype": "text/x-python",
   "name": "python",
   "nbconvert_exporter": "python",
   "pygments_lexer": "ipython3",
   "version": "3.10.12"
  },
  "papermill": {
   "default_parameters": {},
   "duration": 12961.306119,
   "end_time": "2025-02-16T13:17:37.257842",
   "environment_variables": {},
   "exception": null,
   "input_path": "__notebook__.ipynb",
   "output_path": "__notebook__.ipynb",
   "parameters": {},
   "start_time": "2025-02-16T09:41:35.951723",
   "version": "2.6.0"
  }
 },
 "nbformat": 4,
 "nbformat_minor": 5
}
