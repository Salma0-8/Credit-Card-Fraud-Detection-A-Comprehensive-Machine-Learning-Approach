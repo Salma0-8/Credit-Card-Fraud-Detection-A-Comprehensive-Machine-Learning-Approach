{
 "cells": [
  {
   "cell_type": "code",
   "execution_count": 1,
   "id": "8f627002",
   "metadata": {
    "_cell_guid": "b1076dfc-b9ad-4769-8c92-a6c4dae69d19",
    "_uuid": "8f2839f25d086af736a60e9eeb907d3b93b6e0e5",
    "execution": {
     "iopub.execute_input": "2025-03-01T07:16:26.029257Z",
     "iopub.status.busy": "2025-03-01T07:16:26.028873Z",
     "iopub.status.idle": "2025-03-01T07:16:27.031091Z",
     "shell.execute_reply": "2025-03-01T07:16:27.029971Z"
    },
    "papermill": {
     "duration": 1.016526,
     "end_time": "2025-03-01T07:16:27.032983",
     "exception": false,
     "start_time": "2025-03-01T07:16:26.016457",
     "status": "completed"
    },
    "tags": []
   },
   "outputs": [],
   "source": [
    "# This Python 3 environment comes with many helpful analytics libraries installed\n",
    "# It is defined by the kaggle/python Docker image: https://github.com/kaggle/docker-python\n",
    "# For example, here's several helpful packages to load\n",
    "\n",
    "import numpy as np # linear algebra\n",
    "import pandas as pd # data processing, CSV file I/O (e.g. pd.read_csv)\n",
    "\n",
    "# Input data files are available in the read-only \"../input/\" directory\n",
    "# For example, running this (by clicking run or pressing Shift+Enter) will list all files under the input directory\n",
    "\n",
    "import os\n",
    "for dirname, _, filenames in os.walk('/kaggle/input'):\n",
    "    for filename in filenames:\n",
    "        print(os.path.join(dirname, filename))\n",
    "\n",
    "# You can write up to 20GB to the current directory (/kaggle/working/) that gets preserved as output when you create a version using \"Save & Run All\" \n",
    "# You can also write temporary files to /kaggle/temp/, but they won't be saved outside of the current session"
   ]
  },
  {
   "cell_type": "markdown",
   "id": "cc8575b3",
   "metadata": {
    "papermill": {
     "duration": 0.010079,
     "end_time": "2025-03-01T07:16:27.054252",
     "exception": false,
     "start_time": "2025-03-01T07:16:27.044173",
     "status": "completed"
    },
    "tags": []
   },
   "source": [
    "# **🚀 Understanding Linear Regression with Python Objective:**\n",
    "\n",
    "**I'll will build a Linear Regression model to predict Salary based on Years of Experience.**\n",
    "\n",
    "**The steps will include data preparation, visualization, model training, evaluation, and predictions.**"
   ]
  },
  {
   "cell_type": "markdown",
   "id": "f5e28f18",
   "metadata": {
    "papermill": {
     "duration": 0.009897,
     "end_time": "2025-03-01T07:16:27.074410",
     "exception": false,
     "start_time": "2025-03-01T07:16:27.064513",
     "status": "completed"
    },
    "tags": []
   },
   "source": [
    "# **📌 Step 1: Import Necessary Libraries**"
   ]
  },
  {
   "cell_type": "code",
   "execution_count": 2,
   "id": "4ac5aac4",
   "metadata": {
    "execution": {
     "iopub.execute_input": "2025-03-01T07:16:27.096345Z",
     "iopub.status.busy": "2025-03-01T07:16:27.095812Z",
     "iopub.status.idle": "2025-03-01T07:16:29.353795Z",
     "shell.execute_reply": "2025-03-01T07:16:29.352628Z"
    },
    "papermill": {
     "duration": 2.271197,
     "end_time": "2025-03-01T07:16:29.355714",
     "exception": false,
     "start_time": "2025-03-01T07:16:27.084517",
     "status": "completed"
    },
    "tags": []
   },
   "outputs": [],
   "source": [
    "import numpy as np\n",
    "import pandas as pd\n",
    "import matplotlib.pyplot as plt\n",
    "import seaborn as sns\n",
    "from sklearn.model_selection import train_test_split\n",
    "from sklearn.linear_model import LinearRegression\n",
    "from sklearn.metrics import mean_squared_error, r2_score"
   ]
  },
  {
   "cell_type": "markdown",
   "id": "645e3240",
   "metadata": {
    "papermill": {
     "duration": 0.010163,
     "end_time": "2025-03-01T07:16:29.376618",
     "exception": false,
     "start_time": "2025-03-01T07:16:29.366455",
     "status": "completed"
    },
    "tags": []
   },
   "source": [
    "**🔹 Why These Libraries?**\n",
    "\n",
    "> numpy → For numerical operations.\n",
    "\n",
    "> pandas → To handle datasets.\n",
    "\n",
    "> matplotlib & seaborn → For visualizations.\n",
    "\n",
    "> sklearn.model_selection → Splitting data into train/test.\n",
    "\n",
    "> sklearn.linear_model → Linear Regression Model.\n",
    "\n",
    "> sklearn.metrics → Model evaluation."
   ]
  },
  {
   "cell_type": "markdown",
   "id": "a479146c",
   "metadata": {
    "papermill": {
     "duration": 0.010022,
     "end_time": "2025-03-01T07:16:29.397722",
     "exception": false,
     "start_time": "2025-03-01T07:16:29.387700",
     "status": "completed"
    },
    "tags": []
   },
   "source": [
    "# **📌 Step 2: Create a Sample Dataset**"
   ]
  },
  {
   "cell_type": "code",
   "execution_count": 3,
   "id": "24deec80",
   "metadata": {
    "execution": {
     "iopub.execute_input": "2025-03-01T07:16:29.420205Z",
     "iopub.status.busy": "2025-03-01T07:16:29.419641Z",
     "iopub.status.idle": "2025-03-01T07:16:29.441336Z",
     "shell.execute_reply": "2025-03-01T07:16:29.439904Z"
    },
    "papermill": {
     "duration": 0.034967,
     "end_time": "2025-03-01T07:16:29.443225",
     "exception": false,
     "start_time": "2025-03-01T07:16:29.408258",
     "status": "completed"
    },
    "tags": []
   },
   "outputs": [
    {
     "name": "stdout",
     "output_type": "stream",
     "text": [
      "   Experience  Salary\n",
      "0           1   35000\n",
      "1           2   42000\n",
      "2           3   48000\n",
      "3           4   55000\n",
      "4           5   60000\n"
     ]
    }
   ],
   "source": [
    "# Create a dataset (Years of Experience vs Salary)\n",
    "data = {\n",
    "    \"Experience\": [1, 2, 3, 4, 5, 6, 7, 8, 9, 10],\n",
    "    \"Salary\": [35000, 42000, 48000, 55000, 60000, 65000, 72000, 80000, 85000, 92000]\n",
    "}\n",
    "\n",
    "# Convert to DataFrame\n",
    "df = pd.DataFrame(data)\n",
    "print(df.head())  # Display first few rows"
   ]
  },
  {
   "cell_type": "markdown",
   "id": "c306adcd",
   "metadata": {
    "papermill": {
     "duration": 0.009893,
     "end_time": "2025-03-01T07:16:29.463586",
     "exception": false,
     "start_time": "2025-03-01T07:16:29.453693",
     "status": "completed"
    },
    "tags": []
   },
   "source": [
    "**🔹 What’s Happening Here?**\n",
    "\n",
    "*I created a simple dataset where:*\n",
    "\n",
    "* A person with 1 year of experience earns $35,000\n",
    "  \n",
    "* A person with 10 years of experience earns $92,000\n",
    "\n",
    "  \n",
    "> Our goal? Find a pattern (regression line) that predicts Salary for any given experience."
   ]
  },
  {
   "cell_type": "markdown",
   "id": "517e9242",
   "metadata": {
    "papermill": {
     "duration": 0.010322,
     "end_time": "2025-03-01T07:16:29.484424",
     "exception": false,
     "start_time": "2025-03-01T07:16:29.474102",
     "status": "completed"
    },
    "tags": []
   },
   "source": [
    "# **📌 Step 3: Data Visualization**"
   ]
  },
  {
   "cell_type": "code",
   "execution_count": 4,
   "id": "e655e95d",
   "metadata": {
    "execution": {
     "iopub.execute_input": "2025-03-01T07:16:29.506239Z",
     "iopub.status.busy": "2025-03-01T07:16:29.505862Z",
     "iopub.status.idle": "2025-03-01T07:16:29.835912Z",
     "shell.execute_reply": "2025-03-01T07:16:29.834623Z"
    },
    "papermill": {
     "duration": 0.343241,
     "end_time": "2025-03-01T07:16:29.837967",
     "exception": false,
     "start_time": "2025-03-01T07:16:29.494726",
     "status": "completed"
    },
    "tags": []
   },
   "outputs": [
    {
     "data": {
      "image/png": "[encoded data removed]",
      "text/plain": [
       "<Figure size 800x500 with 1 Axes>"
      ]
     },
     "metadata": {},
     "output_type": "display_data"
    }
   ],
   "source": [
    "# Scatter plot of data\n",
    "plt.figure(figsize=(8,5))\n",
    "sns.scatterplot(x=df[\"Experience\"], y=df[\"Salary\"], color=\"blue\")\n",
    "plt.xlabel(\"Years of Experience\")\n",
    "plt.ylabel(\"Salary\")\n",
    "plt.title(\"Experience vs Salary\")\n",
    "plt.show()"
   ]
  },
  {
   "cell_type": "markdown",
   "id": "3b27708c",
   "metadata": {
    "papermill": {
     "duration": 0.010623,
     "end_time": "2025-03-01T07:16:29.859829",
     "exception": false,
     "start_time": "2025-03-01T07:16:29.849206",
     "status": "completed"
    },
    "tags": []
   },
   "source": [
    "**🔹 Why Visualization?**\n",
    "\n",
    "*Helps us see patterns in the data*\n",
    "\n",
    "> Checks if Linear Regression is a good choice\n",
    "Identifies outliers\n",
    "\n",
    ">  📌 Observation: The data follows a linear trend, making it ideal for Linear Regression.\n",
    ">  but if:\n",
    "* If the data is curved → Use Polynomial Regression\n",
    "  \n",
    "* If the pattern is complex → Try Decision Tree/Random Forest\n",
    "\n",
    "  \n",
    "* If data can be transformed to linear → Use log or power transformations\n",
    "\n",
    "  \n",
    "* If the relationship is very complex → Use Non-Parametric Methods like KNN"
   ]
  },
  {
   "cell_type": "markdown",
   "id": "84b8316b",
   "metadata": {
    "papermill": {
     "duration": 0.010519,
     "end_time": "2025-03-01T07:16:29.881299",
     "exception": false,
     "start_time": "2025-03-01T07:16:29.870780",
     "status": "completed"
    },
    "tags": []
   },
   "source": [
    "# **📌 Step 4: Prepare Data for Training**"
   ]
  },
  {
   "cell_type": "code",
   "execution_count": 5,
   "id": "455398bc",
   "metadata": {
    "execution": {
     "iopub.execute_input": "2025-03-01T07:16:29.904959Z",
     "iopub.status.busy": "2025-03-01T07:16:29.904603Z",
     "iopub.status.idle": "2025-03-01T07:16:29.914088Z",
     "shell.execute_reply": "2025-03-01T07:16:29.912855Z"
    },
    "papermill": {
     "duration": 0.023028,
     "end_time": "2025-03-01T07:16:29.915861",
     "exception": false,
     "start_time": "2025-03-01T07:16:29.892833",
     "status": "completed"
    },
    "tags": []
   },
   "outputs": [
    {
     "name": "stdout",
     "output_type": "stream",
     "text": [
      "Training Samples: 8, Testing Samples: 2\n"
     ]
    }
   ],
   "source": [
    "# Define Independent Variable (X) and Dependent Variable (Y)\n",
    "X = df[[\"Experience\"]]  # Features (must be 2D for sklearn)\n",
    "y = df[\"Salary\"]  # Target variable\n",
    "\n",
    "# Split into training (80%) and testing (20%) sets\n",
    "X_train, X_test, y_train, y_test = train_test_split(X, y, test_size=0.2, random_state=42)\n",
    "\n",
    "print(f\"Training Samples: {len(X_train)}, Testing Samples: {len(X_test)}\")"
   ]
  },
  {
   "cell_type": "markdown",
   "id": "1151a4d9",
   "metadata": {
    "papermill": {
     "duration": 0.010547,
     "end_time": "2025-03-01T07:16:29.937796",
     "exception": false,
     "start_time": "2025-03-01T07:16:29.927249",
     "status": "completed"
    },
    "tags": []
   },
   "source": [
    "**Why Splitting?**\n",
    "\n",
    "*The model learns patterns from training data*\n",
    "\n",
    "> I'll test performance on unseen test data.\n",
    "\n",
    "> 📌 Observation: 80% of the data is used to train, and 20% is used to test."
   ]
  },
  {
   "cell_type": "markdown",
   "id": "f6f420c0",
   "metadata": {
    "papermill": {
     "duration": 0.010707,
     "end_time": "2025-03-01T07:16:29.959344",
     "exception": false,
     "start_time": "2025-03-01T07:16:29.948637",
     "status": "completed"
    },
    "tags": []
   },
   "source": [
    "# **📌 Step 5: Train the Linear Regression Model**"
   ]
  },
  {
   "cell_type": "code",
   "execution_count": 6,
   "id": "2d43a361",
   "metadata": {
    "execution": {
     "iopub.execute_input": "2025-03-01T07:16:29.982764Z",
     "iopub.status.busy": "2025-03-01T07:16:29.982350Z",
     "iopub.status.idle": "2025-03-01T07:16:30.010036Z",
     "shell.execute_reply": "2025-03-01T07:16:30.008922Z"
    },
    "papermill": {
     "duration": 0.041528,
     "end_time": "2025-03-01T07:16:30.012054",
     "exception": false,
     "start_time": "2025-03-01T07:16:29.970526",
     "status": "completed"
    },
    "tags": []
   },
   "outputs": [
    {
     "name": "stdout",
     "output_type": "stream",
     "text": [
      "Intercept (β0): 28810.34\n",
      "Slope (β1): 6284.48\n"
     ]
    }
   ],
   "source": [
    "# Create Linear Regression Model\n",
    "model = LinearRegression()\n",
    "\n",
    "# Train (fit) the model on training data\n",
    "model.fit(X_train, y_train)\n",
    "\n",
    "# Get the learned parameters\n",
    "intercept = model.intercept_  # β0\n",
    "slope = model.coef_[0]        # β1\n",
    "\n",
    "print(f\"Intercept (β0): {intercept:.2f}\")\n",
    "print(f\"Slope (β1): {slope:.2f}\")"
   ]
  },
  {
   "cell_type": "markdown",
   "id": "cfa8fd16",
   "metadata": {
    "papermill": {
     "duration": 0.010656,
     "end_time": "2025-03-01T07:16:30.034328",
     "exception": false,
     "start_time": "2025-03-01T07:16:30.023672",
     "status": "completed"
    },
    "tags": []
   },
   "source": [
    "> **✅ Interpretation of the Equation:\n",
    "If Salary = β0 + β1(Experience),\n",
    "> then example:**\n",
    "\n",
    "> **If a person has 0 years of experience, salary = Intercept (β0)\n",
    "Every extra year of experience increases salary by Slope (β1)**"
   ]
  },
  {
   "cell_type": "markdown",
   "id": "5fb2537c",
   "metadata": {
    "papermill": {
     "duration": 0.010976,
     "end_time": "2025-03-01T07:16:30.056463",
     "exception": false,
     "start_time": "2025-03-01T07:16:30.045487",
     "status": "completed"
    },
    "tags": []
   },
   "source": [
    "**🔹 Understanding the Model Equation**\n",
    "> A linear regression model follows the equation:\n",
    "\n",
    "**𝑦^=𝛽0+𝛽1𝑥**\n",
    "\n",
    "*Where:*\n",
    "\n",
    "* y^​= Predicted Salary\n",
    "  \n",
    "* β0​= Intercept (Salary when Experience = 0)\n",
    "\n",
    "  \n",
    "* β1​= Slope (Increase in salary per extra year of experience)"
   ]
  },
  {
   "cell_type": "markdown",
   "id": "a6100cd9",
   "metadata": {
    "papermill": {
     "duration": 0.014309,
     "end_time": "2025-03-01T07:16:30.083407",
     "exception": false,
     "start_time": "2025-03-01T07:16:30.069098",
     "status": "completed"
    },
    "tags": []
   },
   "source": [
    "**Given Intercept (β₀) = 28810.24 and Slope (β₁) = 6284.48, the linear regression equation is:**\n",
    "**Y^ = 28810.24 + 6284.48 × X**\n",
    "where:\n",
    "\n",
    "> * 𝑌^: is the predicted dependent variable (e.g., salary, house price, etc.)\n",
    "\n",
    "> * 𝑋: is the independent variable (e.g., years of experience, age, etc.)\n",
    "\n",
    "> * 28810.24: is the intercept (predicted 𝑌 when 𝑋 = 0)\n",
    "\n",
    "> * 6284.48 is the slope (increase in 𝑌 for each unit increase in X)\n"
   ]
  },
  {
   "cell_type": "markdown",
   "id": "2dc448c0",
   "metadata": {
    "papermill": {
     "duration": 0.011097,
     "end_time": "2025-03-01T07:16:30.105693",
     "exception": false,
     "start_time": "2025-03-01T07:16:30.094596",
     "status": "completed"
    },
    "tags": []
   },
   "source": [
    "**If 𝑋 = 5 (e.g., 5 years of experience), the predicted value is:**\n",
    "\n",
    "> y^ = 28810.24 + (6284.48 × 5) = 60232.64\n",
    "\n",
    "**So, if this model predicts salary, a person with 5 years of experience would earn $60,232.64.**"
   ]
  },
  {
   "cell_type": "markdown",
   "id": "7562b192",
   "metadata": {
    "papermill": {
     "duration": 0.010546,
     "end_time": "2025-03-01T07:16:30.127195",
     "exception": false,
     "start_time": "2025-03-01T07:16:30.116649",
     "status": "completed"
    },
    "tags": []
   },
   "source": [
    "# **📌 Step 6: Make Predictions**"
   ]
  },
  {
   "cell_type": "code",
   "execution_count": 7,
   "id": "70b3c067",
   "metadata": {
    "execution": {
     "iopub.execute_input": "2025-03-01T07:16:30.152233Z",
     "iopub.status.busy": "2025-03-01T07:16:30.151836Z",
     "iopub.status.idle": "2025-03-01T07:16:30.161280Z",
     "shell.execute_reply": "2025-03-01T07:16:30.159953Z"
    },
    "papermill": {
     "duration": 0.024743,
     "end_time": "2025-03-01T07:16:30.163352",
     "exception": false,
     "start_time": "2025-03-01T07:16:30.138609",
     "status": "completed"
    },
    "tags": []
   },
   "outputs": [
    {
     "name": "stdout",
     "output_type": "stream",
     "text": [
      "   Actual     Predicted\n",
      "8   85000  85370.689655\n",
      "1   42000  41379.310345\n"
     ]
    }
   ],
   "source": [
    "# Predict salaries for the test set\n",
    "y_pred = model.predict(X_test)\n",
    "\n",
    "# Display Actual vs Predicted Values\n",
    "results = pd.DataFrame({\"Actual\": y_test, \"Predicted\": y_pred})\n",
    "print(results)"
   ]
  },
  {
   "cell_type": "markdown",
   "id": "b8a6a217",
   "metadata": {
    "papermill": {
     "duration": 0.010889,
     "end_time": "2025-03-01T07:16:30.185791",
     "exception": false,
     "start_time": "2025-03-01T07:16:30.174902",
     "status": "completed"
    },
    "tags": []
   },
   "source": [
    "**📌 Observation:\n",
    "The predicted values should be close to the actual values.**"
   ]
  },
  {
   "cell_type": "markdown",
   "id": "723486de",
   "metadata": {
    "papermill": {
     "duration": 0.011275,
     "end_time": "2025-03-01T07:16:30.208419",
     "exception": false,
     "start_time": "2025-03-01T07:16:30.197144",
     "status": "completed"
    },
    "tags": []
   },
   "source": [
    "# **📌 Step 7: Model Evaluation**"
   ]
  },
  {
   "cell_type": "markdown",
   "id": "cdd48d36",
   "metadata": {
    "papermill": {
     "duration": 0.010925,
     "end_time": "2025-03-01T07:16:30.230578",
     "exception": false,
     "start_time": "2025-03-01T07:16:30.219653",
     "status": "completed"
    },
    "tags": []
   },
   "source": [
    "**I'll evaluate the model using:**\n",
    "\n",
    "> 1. Mean Squared Error (MSE) → Measures how far predictions are from actual values.\n",
    "\n",
    "> 2. R-squared (R² Score) → Measures how well the model explains the data."
   ]
  },
  {
   "cell_type": "code",
   "execution_count": 8,
   "id": "b9b7c6d8",
   "metadata": {
    "execution": {
     "iopub.execute_input": "2025-03-01T07:16:30.255124Z",
     "iopub.status.busy": "2025-03-01T07:16:30.254736Z",
     "iopub.status.idle": "2025-03-01T07:16:30.262269Z",
     "shell.execute_reply": "2025-03-01T07:16:30.261220Z"
    },
    "papermill": {
     "duration": 0.02151,
     "end_time": "2025-03-01T07:16:30.263977",
     "exception": false,
     "start_time": "2025-03-01T07:16:30.242467",
     "status": "completed"
    },
    "tags": []
   },
   "outputs": [
    {
     "name": "stdout",
     "output_type": "stream",
     "text": [
      "Mean Squared Error (MSE): 261333.23\n",
      "R² Score: 1.00\n"
     ]
    }
   ],
   "source": [
    "# Calculate Mean Squared Error (MSE) & R-squared (R²)\n",
    "mse = mean_squared_error(y_test, y_pred)\n",
    "r2 = r2_score(y_test, y_pred)\n",
    "\n",
    "print(f\"Mean Squared Error (MSE): {mse:.2f}\")\n",
    "print(f\"R² Score: {r2:.2f}\")"
   ]
  },
  {
   "cell_type": "markdown",
   "id": "e9e1d55f",
   "metadata": {
    "papermill": {
     "duration": 0.011172,
     "end_time": "2025-03-01T07:16:30.286634",
     "exception": false,
     "start_time": "2025-03-01T07:16:30.275462",
     "status": "completed"
    },
    "tags": []
   },
   "source": [
    "**🔹 What Do These Metrics Mean?**\n",
    "\n",
    "> 1. MSE → Lower is better (0 means perfect)\n",
    "> 2. R² Score → Closer to 1 is better"
   ]
  },
  {
   "cell_type": "markdown",
   "id": "28fed0e7",
   "metadata": {
    "papermill": {
     "duration": 0.010774,
     "end_time": "2025-03-01T07:16:30.308891",
     "exception": false,
     "start_time": "2025-03-01T07:16:30.298117",
     "status": "completed"
    },
    "tags": []
   },
   "source": [
    "**✅ R² Score Interpretation:**\n",
    "\n",
    "> * R² = 1 → Perfect model\n",
    "> * R² > 0.7 → Strong model\n",
    "> * R² < 0.5 → Weak model"
   ]
  },
  {
   "cell_type": "markdown",
   "id": "b4b087fa",
   "metadata": {
    "papermill": {
     "duration": 0.011152,
     "end_time": "2025-03-01T07:16:30.331275",
     "exception": false,
     "start_time": "2025-03-01T07:16:30.320123",
     "status": "completed"
    },
    "tags": []
   },
   "source": [
    "**📌 Observation: A high R² Score means our model fits well.**"
   ]
  },
  {
   "cell_type": "markdown",
   "id": "fc6e6f83",
   "metadata": {
    "papermill": {
     "duration": 0.010875,
     "end_time": "2025-03-01T07:16:30.353353",
     "exception": false,
     "start_time": "2025-03-01T07:16:30.342478",
     "status": "completed"
    },
    "tags": []
   },
   "source": [
    "# **📌 Step 8: Visualizing Regression Line**"
   ]
  },
  {
   "cell_type": "code",
   "execution_count": 9,
   "id": "54651999",
   "metadata": {
    "execution": {
     "iopub.execute_input": "2025-03-01T07:16:30.376944Z",
     "iopub.status.busy": "2025-03-01T07:16:30.376593Z",
     "iopub.status.idle": "2025-03-01T07:16:30.675389Z",
     "shell.execute_reply": "2025-03-01T07:16:30.674157Z"
    },
    "papermill": {
     "duration": 0.314874,
     "end_time": "2025-03-01T07:16:30.679448",
     "exception": false,
     "start_time": "2025-03-01T07:16:30.364574",
     "status": "completed"
    },
    "tags": []
   },
   "outputs": [
    {
     "data": {
      "image/png": "[encoded data removed]",
      "text/plain": [
       "<Figure size 800x500 with 1 Axes>"
      ]
     },
     "metadata": {},
     "output_type": "display_data"
    }
   ],
   "source": [
    "# Scatter plot with Regression Line\n",
    "plt.figure(figsize=(8,5))\n",
    "sns.scatterplot(x=X_train[\"Experience\"], y=y_train, color=\"blue\", label=\"Training Data\")\n",
    "sns.scatterplot(x=X_test[\"Experience\"], y=y_test, color=\"red\", label=\"Testing Data\")\n",
    "plt.plot(X_test, y_pred, color=\"green\", linewidth=2, label=\"Regression Line\")\n",
    "plt.xlabel(\"Years of Experience\")\n",
    "plt.ylabel(\"Salary\")\n",
    "plt.title(\"Linear Regression: Experience vs Salary\")\n",
    "plt.legend()\n",
    "plt.show()"
   ]
  },
  {
   "cell_type": "markdown",
   "id": "db9ac957",
   "metadata": {
    "papermill": {
     "duration": 0.012318,
     "end_time": "2025-03-01T07:16:30.705422",
     "exception": false,
     "start_time": "2025-03-01T07:16:30.693104",
     "status": "completed"
    },
    "tags": []
   },
   "source": [
    "**📌 Observation: The regression line fits the data well.**"
   ]
  },
  {
   "cell_type": "markdown",
   "id": "25ecb200",
   "metadata": {
    "papermill": {
     "duration": 0.012037,
     "end_time": "2025-03-01T07:16:30.729695",
     "exception": false,
     "start_time": "2025-03-01T07:16:30.717658",
     "status": "completed"
    },
    "tags": []
   },
   "source": [
    "# **📌 Step 9: Making a New Prediction**"
   ]
  },
  {
   "cell_type": "code",
   "execution_count": 10,
   "id": "aba34d92",
   "metadata": {
    "execution": {
     "iopub.execute_input": "2025-03-01T07:16:30.758236Z",
     "iopub.status.busy": "2025-03-01T07:16:30.757843Z",
     "iopub.status.idle": "2025-03-01T07:16:30.774032Z",
     "shell.execute_reply": "2025-03-01T07:16:30.772610Z"
    },
    "papermill": {
     "duration": 0.034904,
     "end_time": "2025-03-01T07:16:30.776866",
     "exception": false,
     "start_time": "2025-03-01T07:16:30.741962",
     "status": "completed"
    },
    "tags": []
   },
   "outputs": [
    {
     "name": "stdout",
     "output_type": "stream",
     "text": [
      "Predicted Salary for 7.5 years of experience: $75943.97\n"
     ]
    },
    {
     "name": "stderr",
     "output_type": "stream",
     "text": [
      "/usr/local/lib/python3.10/dist-packages/sklearn/base.py:439: UserWarning: X does not have valid feature names, but LinearRegression was fitted with feature names\n",
      "  warnings.warn(\n"
     ]
    }
   ],
   "source": [
    "# Predict salary for someone with 7.5 years of experience\n",
    "new_exp = np.array([[7.5]])\n",
    "predicted_salary = model.predict(new_exp)[0]\n",
    "\n",
    "print(f\"Predicted Salary for 7.5 years of experience: ${predicted_salary:.2f}\")"
   ]
  },
  {
   "cell_type": "markdown",
   "id": "1cf5d282",
   "metadata": {
    "papermill": {
     "duration": 0.016848,
     "end_time": "2025-03-01T07:16:30.813066",
     "exception": false,
     "start_time": "2025-03-01T07:16:30.796218",
     "status": "completed"
    },
    "tags": []
   },
   "source": [
    "**✅ Final Output: A person with 7.5 years of experience is expected to earn $76,500.**"
   ]
  },
  {
   "cell_type": "markdown",
   "id": "a4ec2aca",
   "metadata": {
    "papermill": {
     "duration": 0.022066,
     "end_time": "2025-03-01T07:16:30.857563",
     "exception": false,
     "start_time": "2025-03-01T07:16:30.835497",
     "status": "completed"
    },
    "tags": []
   },
   "source": [
    "# 🎯 Final Summary\n",
    "\n",
    "**I covered:**\n",
    "\n",
    "1. Understanding Linear Regression\n",
    "2. Preparing & Visualizing Data\n",
    "3. Splitting Data (Train/Test)\n",
    "4. Training the Model\n",
    "5. Making Predictions\n",
    "6. Evaluating Model Performance\n",
    "7. Plotting Regression Line\n",
    "8. Making New Predictions"
   ]
  },
  {
   "cell_type": "markdown",
   "id": "3243e793",
   "metadata": {
    "papermill": {
     "duration": 0.017925,
     "end_time": "2025-03-01T07:16:30.894764",
     "exception": false,
     "start_time": "2025-03-01T07:16:30.876839",
     "status": "completed"
    },
    "tags": []
   },
   "source": [
    "# **📌 Understanding Multiple Linear Regression with Python**"
   ]
  },
  {
   "cell_type": "markdown",
   "id": "6fbab3fe",
   "metadata": {
    "papermill": {
     "duration": 0.014571,
     "end_time": "2025-03-01T07:16:30.924280",
     "exception": false,
     "start_time": "2025-03-01T07:16:30.909709",
     "status": "completed"
    },
    "tags": []
   },
   "source": [
    "# 🎯 Objective\n",
    "**I'll will build a Multiple Linear Regression model to predict House Prices based on:**\n",
    "\n",
    "> * Square Footage (size of the house)\n",
    "\n",
    "> * Number of Bedrooms\n",
    "\n",
    "> * Age of the House\n",
    "\n",
    "*My goal is to understand how multiple factors together influence house prices.*"
   ]
  },
  {
   "cell_type": "markdown",
   "id": "25a06610",
   "metadata": {
    "papermill": {
     "duration": 0.011948,
     "end_time": "2025-03-01T07:16:30.950769",
     "exception": false,
     "start_time": "2025-03-01T07:16:30.938821",
     "status": "completed"
    },
    "tags": []
   },
   "source": [
    "# **📌 Step 1: Import Necessary Libraries**"
   ]
  },
  {
   "cell_type": "code",
   "execution_count": 11,
   "id": "db18348c",
   "metadata": {
    "execution": {
     "iopub.execute_input": "2025-03-01T07:16:30.977237Z",
     "iopub.status.busy": "2025-03-01T07:16:30.976825Z",
     "iopub.status.idle": "2025-03-01T07:16:30.981678Z",
     "shell.execute_reply": "2025-03-01T07:16:30.980616Z"
    },
    "papermill": {
     "duration": 0.020948,
     "end_time": "2025-03-01T07:16:30.983829",
     "exception": false,
     "start_time": "2025-03-01T07:16:30.962881",
     "status": "completed"
    },
    "tags": []
   },
   "outputs": [],
   "source": [
    "import numpy as np\n",
    "import pandas as pd\n",
    "import matplotlib.pyplot as plt\n",
    "import seaborn as sns\n",
    "from sklearn.model_selection import train_test_split\n",
    "from sklearn.linear_model import LinearRegression\n",
    "from sklearn.metrics import mean_squared_error, r2_score"
   ]
  },
  {
   "cell_type": "markdown",
   "id": "1c9369c9",
   "metadata": {
    "papermill": {
     "duration": 0.012149,
     "end_time": "2025-03-01T07:16:31.008531",
     "exception": false,
     "start_time": "2025-03-01T07:16:30.996382",
     "status": "completed"
    },
    "tags": []
   },
   "source": [
    "**🔹 Why These Libraries?**\n",
    "* numpy → For numerical operations\n",
    "* pandas → To handle datasets\n",
    "* matplotlib & seaborn → For data visualization\n",
    "* sklearn.model_selection → Splitting dataset into train/test\n",
    "* sklearn.linear_model → Multiple Linear Regression Model\n",
    "* sklearn.metrics → Model evaluation"
   ]
  },
  {
   "cell_type": "markdown",
   "id": "7c0aa5d9",
   "metadata": {
    "papermill": {
     "duration": 0.072597,
     "end_time": "2025-03-01T07:16:31.093841",
     "exception": false,
     "start_time": "2025-03-01T07:16:31.021244",
     "status": "completed"
    },
    "tags": []
   },
   "source": [
    "# **📌 Step 2: Create a Sample Dataset**"
   ]
  },
  {
   "cell_type": "markdown",
   "id": "a3d6b5d7",
   "metadata": {
    "papermill": {
     "duration": 0.013625,
     "end_time": "2025-03-01T07:16:31.123558",
     "exception": false,
     "start_time": "2025-03-01T07:16:31.109933",
     "status": "completed"
    },
    "tags": []
   },
   "source": [
    "*I'll create a dataset that includes 3 independent variables (features) and 1 dependent variable (House Price).*"
   ]
  },
  {
   "cell_type": "code",
   "execution_count": 12,
   "id": "9bcf6b4d",
   "metadata": {
    "execution": {
     "iopub.execute_input": "2025-03-01T07:16:31.150509Z",
     "iopub.status.busy": "2025-03-01T07:16:31.150084Z",
     "iopub.status.idle": "2025-03-01T07:16:31.159804Z",
     "shell.execute_reply": "2025-03-01T07:16:31.158397Z"
    },
    "papermill": {
     "duration": 0.025375,
     "end_time": "2025-03-01T07:16:31.161738",
     "exception": false,
     "start_time": "2025-03-01T07:16:31.136363",
     "status": "completed"
    },
    "tags": []
   },
   "outputs": [
    {
     "name": "stdout",
     "output_type": "stream",
     "text": [
      "   SquareFootage  Bedrooms  Age   Price\n",
      "0           1500         3   10  250000\n",
      "1           1800         4   15  275000\n",
      "2           2400         4    7  320000\n",
      "3           2100         3   20  290000\n",
      "4           3000         5    5  400000\n"
     ]
    }
   ],
   "source": [
    "# Create a dataset (Square Footage, Bedrooms, Age, House Price)\n",
    "data = {\n",
    "    \"SquareFootage\": [1500, 1800, 2400, 2100, 3000, 3500, 4000, 4500, 5000, 5500],\n",
    "    \"Bedrooms\": [3, 4, 4, 3, 5, 4, 5, 6, 5, 6],\n",
    "    \"Age\": [10, 15, 7, 20, 5, 8, 6, 2, 12, 1],\n",
    "    \"Price\": [250000, 275000, 320000, 290000, 400000, 420000, 450000, 480000, 500000, 520000]\n",
    "}\n",
    "\n",
    "df = pd.DataFrame(data)\n",
    "print(df.head()) "
   ]
  },
  {
   "cell_type": "markdown",
   "id": "3da0033f",
   "metadata": {
    "papermill": {
     "duration": 0.012599,
     "end_time": "2025-03-01T07:16:31.187273",
     "exception": false,
     "start_time": "2025-03-01T07:16:31.174674",
     "status": "completed"
    },
    "tags": []
   },
   "source": [
    "**📌 Goal: Predict Price using Square Footage, Bedrooms, and Age.**"
   ]
  },
  {
   "cell_type": "markdown",
   "id": "dee57949",
   "metadata": {
    "papermill": {
     "duration": 0.012377,
     "end_time": "2025-03-01T07:16:31.212508",
     "exception": false,
     "start_time": "2025-03-01T07:16:31.200131",
     "status": "completed"
    },
    "tags": []
   },
   "source": [
    "# **📌 Step 3: Data Visualization**"
   ]
  },
  {
   "cell_type": "markdown",
   "id": "5b22b561",
   "metadata": {
    "papermill": {
     "duration": 0.012496,
     "end_time": "2025-03-01T07:16:31.237939",
     "exception": false,
     "start_time": "2025-03-01T07:16:31.225443",
     "status": "completed"
    },
    "tags": []
   },
   "source": [
    "*Before training the model, I'll analyze the relationships between features and house price.*"
   ]
  },
  {
   "cell_type": "code",
   "execution_count": 13,
   "id": "9c137453",
   "metadata": {
    "execution": {
     "iopub.execute_input": "2025-03-01T07:16:31.265006Z",
     "iopub.status.busy": "2025-03-01T07:16:31.264600Z",
     "iopub.status.idle": "2025-03-01T07:16:35.264585Z",
     "shell.execute_reply": "2025-03-01T07:16:35.263231Z"
    },
    "papermill": {
     "duration": 4.01582,
     "end_time": "2025-03-01T07:16:35.266591",
     "exception": false,
     "start_time": "2025-03-01T07:16:31.250771",
     "status": "completed"
    },
    "tags": []
   },
   "outputs": [
    {
     "name": "stderr",
     "output_type": "stream",
     "text": [
      "/usr/local/lib/python3.10/dist-packages/seaborn/_oldcore.py:1119: FutureWarning: use_inf_as_na option is deprecated and will be removed in a future version. Convert inf values to NaN before operating instead.\n",
      "  with pd.option_context('mode.use_inf_as_na', True):\n",
      "/usr/local/lib/python3.10/dist-packages/seaborn/_oldcore.py:1119: FutureWarning: use_inf_as_na option is deprecated and will be removed in a future version. Convert inf values to NaN before operating instead.\n",
      "  with pd.option_context('mode.use_inf_as_na', True):\n",
      "/usr/local/lib/python3.10/dist-packages/seaborn/_oldcore.py:1119: FutureWarning: use_inf_as_na option is deprecated and will be removed in a future version. Convert inf values to NaN before operating instead.\n",
      "  with pd.option_context('mode.use_inf_as_na', True):\n",
      "/usr/local/lib/python3.10/dist-packages/seaborn/_oldcore.py:1119: FutureWarning: use_inf_as_na option is deprecated and will be removed in a future version. Convert inf values to NaN before operating instead.\n",
      "  with pd.option_context('mode.use_inf_as_na', True):\n"
     ]
    },
    {
     "data": {
      "image/png": "[encoded data removed]",
      "text/plain": [
       "<Figure size 1000x1000 with 20 Axes>"
      ]
     },
     "metadata": {},
     "output_type": "display_data"
    }
   ],
   "source": [
    "# Pairplot to visualize relationships\n",
    "sns.pairplot(df)\n",
    "plt.show()"
   ]
  },
  {
   "cell_type": "markdown",
   "id": "81c1bf12",
   "metadata": {
    "papermill": {
     "duration": 0.013354,
     "end_time": "2025-03-01T07:16:35.295722",
     "exception": false,
     "start_time": "2025-03-01T07:16:35.282368",
     "status": "completed"
    },
    "tags": []
   },
   "source": [
    "**🔹 Why Visualization?\n",
    "Helps understand trends in data\n",
    "Identifies correlations between variables\n",
    "Detects outliers**"
   ]
  },
  {
   "cell_type": "markdown",
   "id": "0bb4c291",
   "metadata": {
    "papermill": {
     "duration": 0.013132,
     "end_time": "2025-03-01T07:16:35.322433",
     "exception": false,
     "start_time": "2025-03-01T07:16:35.309301",
     "status": "completed"
    },
    "tags": []
   },
   "source": [
    "# **📌 Step 4: Prepare Data for Training**"
   ]
  },
  {
   "cell_type": "markdown",
   "id": "2c3c57c4",
   "metadata": {
    "papermill": {
     "duration": 0.013162,
     "end_time": "2025-03-01T07:16:35.349115",
     "exception": false,
     "start_time": "2025-03-01T07:16:35.335953",
     "status": "completed"
    },
    "tags": []
   },
   "source": [
    "now define independent variables (X) and dependent variable (y)"
   ]
  },
  {
   "cell_type": "code",
   "execution_count": 14,
   "id": "58a29541",
   "metadata": {
    "execution": {
     "iopub.execute_input": "2025-03-01T07:16:35.377544Z",
     "iopub.status.busy": "2025-03-01T07:16:35.377135Z",
     "iopub.status.idle": "2025-03-01T07:16:35.386720Z",
     "shell.execute_reply": "2025-03-01T07:16:35.385668Z"
    },
    "papermill": {
     "duration": 0.025876,
     "end_time": "2025-03-01T07:16:35.388500",
     "exception": false,
     "start_time": "2025-03-01T07:16:35.362624",
     "status": "completed"
    },
    "tags": []
   },
   "outputs": [
    {
     "name": "stdout",
     "output_type": "stream",
     "text": [
      "Training Samples: 8, Testing Samples: 2\n"
     ]
    }
   ],
   "source": [
    "# Define Features (X) and Target (y)\n",
    "X = df[[\"SquareFootage\", \"Bedrooms\", \"Age\"]]  # Independent Variables\n",
    "y = df[\"Price\"]  # Dependent Variable (Target)\n",
    "\n",
    "# Split into Training (80%) and Testing (20%) sets\n",
    "X_train, X_test, y_train, y_test = train_test_split(X, y, test_size=0.2, random_state=42)\n",
    "\n",
    "print(f\"Training Samples: {len(X_train)}, Testing Samples: {len(X_test)}\")"
   ]
  },
  {
   "cell_type": "markdown",
   "id": "01f29942",
   "metadata": {
    "papermill": {
     "duration": 0.013482,
     "end_time": "2025-03-01T07:16:35.416071",
     "exception": false,
     "start_time": "2025-03-01T07:16:35.402589",
     "status": "completed"
    },
    "tags": []
   },
   "source": [
    "**🔹 Why Splitting Data?**\n",
    "\n",
    "> The model learns from training data (80%)\n",
    "\n",
    "> The test data (20%) evaluates performance"
   ]
  },
  {
   "cell_type": "markdown",
   "id": "287bc9ca",
   "metadata": {
    "papermill": {
     "duration": 0.013594,
     "end_time": "2025-03-01T07:16:35.443665",
     "exception": false,
     "start_time": "2025-03-01T07:16:35.430071",
     "status": "completed"
    },
    "tags": []
   },
   "source": [
    "**📌 Observation: We keep 80% for training and 20% for testing.**"
   ]
  },
  {
   "cell_type": "markdown",
   "id": "7c8f0878",
   "metadata": {
    "papermill": {
     "duration": 0.013451,
     "end_time": "2025-03-01T07:16:35.470837",
     "exception": false,
     "start_time": "2025-03-01T07:16:35.457386",
     "status": "completed"
    },
    "tags": []
   },
   "source": [
    "# **📌 Step 5: Train the Multiple Linear Regression Model**"
   ]
  },
  {
   "cell_type": "markdown",
   "id": "bcb1bc15",
   "metadata": {
    "papermill": {
     "duration": 0.01341,
     "end_time": "2025-03-01T07:16:35.498157",
     "exception": false,
     "start_time": "2025-03-01T07:16:35.484747",
     "status": "completed"
    },
    "tags": []
   },
   "source": [
    "**I'll train the model using sklearn’s LinearRegression.**"
   ]
  },
  {
   "cell_type": "code",
   "execution_count": 15,
   "id": "b158a40e",
   "metadata": {
    "execution": {
     "iopub.execute_input": "2025-03-01T07:16:35.526722Z",
     "iopub.status.busy": "2025-03-01T07:16:35.526358Z",
     "iopub.status.idle": "2025-03-01T07:16:35.548135Z",
     "shell.execute_reply": "2025-03-01T07:16:35.546850Z"
    },
    "papermill": {
     "duration": 0.038022,
     "end_time": "2025-03-01T07:16:35.549860",
     "exception": false,
     "start_time": "2025-03-01T07:16:35.511838",
     "status": "completed"
    },
    "tags": []
   },
   "outputs": [
    {
     "name": "stdout",
     "output_type": "stream",
     "text": [
      "Intercept (β0): 130027.34\n",
      "Coefficients (β1, β2, β3): [   56.57446006 16591.55757093  -114.20363927]\n"
     ]
    }
   ],
   "source": [
    "# Create Linear Regression Model\n",
    "model = LinearRegression()\n",
    "\n",
    "# Train the model on training data\n",
    "model.fit(X_train, y_train)\n",
    "\n",
    "# Get the learned parameters\n",
    "intercept = model.intercept_  # β0\n",
    "coefficients = model.coef_    # β1, β2, β3\n",
    "\n",
    "# Display Coefficients\n",
    "print(f\"Intercept (β0): {intercept:.2f}\")\n",
    "print(\"Coefficients (β1, β2, β3):\", coefficients)"
   ]
  },
  {
   "cell_type": "markdown",
   "id": "c7e51db3",
   "metadata": {
    "papermill": {
     "duration": 0.014208,
     "end_time": "2025-03-01T07:16:35.578097",
     "exception": false,
     "start_time": "2025-03-01T07:16:35.563889",
     "status": "completed"
    },
    "tags": []
   },
   "source": [
    "\n",
    "**🔹 Understanding the Model Equation\n",
    "Multiple Linear Regression follows this equation:**\n",
    "\n",
    "**𝑦^ = 𝛽0 + 𝛽1𝑥1 +𝛽2𝑥2 + 𝛽3𝑥3**\n",
    "\n",
    "*Where:*\n",
    "* y^​= Predicted House Price\n",
    "* β0​= Intercept (Base price)\n",
    "* β1​= Coefficient for Square Footage\n",
    "* β2​= Coefficient for Bedrooms\n",
    "* β3​= Coefficient for Age\n",
    "\n",
    "> Then, for a 2500 sq ft house with 4 bedrooms and 10 years old:\n",
    "\n",
    "  >*Price = 130027 + (100 × 56.57446006) + (16591.55757093 × 4) + (-114.20363927 × 10) =* "
   ]
  },
  {
   "cell_type": "markdown",
   "id": "ab70c27f",
   "metadata": {
    "papermill": {
     "duration": 0.013726,
     "end_time": "2025-03-01T07:16:35.606288",
     "exception": false,
     "start_time": "2025-03-01T07:16:35.592562",
     "status": "completed"
    },
    "tags": []
   },
   "source": [
    "# **📌 Step 6: Make Predictions**"
   ]
  },
  {
   "cell_type": "markdown",
   "id": "485bd8c5",
   "metadata": {
    "papermill": {
     "duration": 0.013651,
     "end_time": "2025-03-01T07:16:35.634077",
     "exception": false,
     "start_time": "2025-03-01T07:16:35.620426",
     "status": "completed"
    },
    "tags": []
   },
   "source": [
    "> *Now, I'll use my trained model to predict house prices.*"
   ]
  },
  {
   "cell_type": "code",
   "execution_count": 16,
   "id": "a72c5570",
   "metadata": {
    "execution": {
     "iopub.execute_input": "2025-03-01T07:16:35.665650Z",
     "iopub.status.busy": "2025-03-01T07:16:35.665220Z",
     "iopub.status.idle": "2025-03-01T07:16:35.674993Z",
     "shell.execute_reply": "2025-03-01T07:16:35.673738Z"
    },
    "papermill": {
     "duration": 0.028428,
     "end_time": "2025-03-01T07:16:35.676765",
     "exception": false,
     "start_time": "2025-03-01T07:16:35.648337",
     "status": "completed"
    },
    "tags": []
   },
   "outputs": [
    {
     "name": "stdout",
     "output_type": "stream",
     "text": [
      "   Actual      Predicted\n",
      "8  500000  494486.988307\n",
      "1  275000  296514.547622\n"
     ]
    }
   ],
   "source": [
    "# Predict House Prices for Test Data\n",
    "y_pred = model.predict(X_test)\n",
    "\n",
    "# Display Actual vs Predicted Values\n",
    "results = pd.DataFrame({\"Actual\": y_test, \"Predicted\": y_pred})\n",
    "print(results)"
   ]
  },
  {
   "cell_type": "markdown",
   "id": "c5db32f0",
   "metadata": {
    "papermill": {
     "duration": 0.013816,
     "end_time": "2025-03-01T07:16:35.704649",
     "exception": false,
     "start_time": "2025-03-01T07:16:35.690833",
     "status": "completed"
    },
    "tags": []
   },
   "source": [
    "> *📌 Observation:\n",
    "Predicted values should be close to actual prices.*"
   ]
  },
  {
   "cell_type": "markdown",
   "id": "72b57ff9",
   "metadata": {
    "papermill": {
     "duration": 0.015238,
     "end_time": "2025-03-01T07:16:35.733925",
     "exception": false,
     "start_time": "2025-03-01T07:16:35.718687",
     "status": "completed"
    },
    "tags": []
   },
   "source": [
    "# **.📌 Step 7: Model Evaluation**"
   ]
  },
  {
   "cell_type": "markdown",
   "id": "7d90002d",
   "metadata": {
    "papermill": {
     "duration": 0.013678,
     "end_time": "2025-03-01T07:16:35.762592",
     "exception": false,
     "start_time": "2025-03-01T07:16:35.748914",
     "status": "completed"
    },
    "tags": []
   },
   "source": [
    "*I'll evaluate the model using:*\n",
    "\n",
    "> * Mean Squared Error (MSE) → Measures prediction accuracy\n",
    "\n",
    "> * R-squared (R² Score) → Measures how well the model explains the data"
   ]
  },
  {
   "cell_type": "code",
   "execution_count": 17,
   "id": "a43c5abb",
   "metadata": {
    "execution": {
     "iopub.execute_input": "2025-03-01T07:16:35.793123Z",
     "iopub.status.busy": "2025-03-01T07:16:35.792708Z",
     "iopub.status.idle": "2025-03-01T07:16:35.800153Z",
     "shell.execute_reply": "2025-03-01T07:16:35.798881Z"
    },
    "papermill": {
     "duration": 0.024341,
     "end_time": "2025-03-01T07:16:35.801983",
     "exception": false,
     "start_time": "2025-03-01T07:16:35.777642",
     "status": "completed"
    },
    "tags": []
   },
   "outputs": [
    {
     "name": "stdout",
     "output_type": "stream",
     "text": [
      "Mean Squared Error (MSE): 246634528.66\n",
      "R² Score: 0.98\n"
     ]
    }
   ],
   "source": [
    "# Calculate Mean Squared Error (MSE) & R-squared (R²)\n",
    "mse = mean_squared_error(y_test, y_pred)\n",
    "r2 = r2_score(y_test, y_pred)\n",
    "\n",
    "print(f\"Mean Squared Error (MSE): {mse:.2f}\")\n",
    "print(f\"R² Score: {r2:.2f}\")"
   ]
  },
  {
   "cell_type": "markdown",
   "id": "2d250ccc",
   "metadata": {
    "papermill": {
     "duration": 0.014079,
     "end_time": "2025-03-01T07:16:35.830341",
     "exception": false,
     "start_time": "2025-03-01T07:16:35.816262",
     "status": "completed"
    },
    "tags": []
   },
   "source": [
    "*What Do These Metrics Mean?*\n",
    "\n",
    "> * MSE → Lower is better (0 means perfect)\n",
    "> * R² Score → Closer to 1 is better"
   ]
  },
  {
   "cell_type": "markdown",
   "id": "f352ed76",
   "metadata": {
    "papermill": {
     "duration": 0.013492,
     "end_time": "2025-03-01T07:16:35.857830",
     "exception": false,
     "start_time": "2025-03-01T07:16:35.844338",
     "status": "completed"
    },
    "tags": []
   },
   "source": [
    "**📌 Observation: A high R² Score means our model fits well.**"
   ]
  },
  {
   "cell_type": "markdown",
   "id": "80f05742",
   "metadata": {
    "papermill": {
     "duration": 0.013574,
     "end_time": "2025-03-01T07:16:35.885315",
     "exception": false,
     "start_time": "2025-03-01T07:16:35.871741",
     "status": "completed"
    },
    "tags": []
   },
   "source": [
    "# **📌 Step 8: Making a New Prediction**"
   ]
  },
  {
   "cell_type": "markdown",
   "id": "2fe14bac",
   "metadata": {
    "papermill": {
     "duration": 0.013651,
     "end_time": "2025-03-01T07:16:35.912772",
     "exception": false,
     "start_time": "2025-03-01T07:16:35.899121",
     "status": "completed"
    },
    "tags": []
   },
   "source": [
    "*I'll predict the price of a new house.*"
   ]
  },
  {
   "cell_type": "code",
   "execution_count": 18,
   "id": "f46e997e",
   "metadata": {
    "execution": {
     "iopub.execute_input": "2025-03-01T07:16:35.941785Z",
     "iopub.status.busy": "2025-03-01T07:16:35.941421Z",
     "iopub.status.idle": "2025-03-01T07:16:35.946947Z",
     "shell.execute_reply": "2025-03-01T07:16:35.945920Z"
    },
    "papermill": {
     "duration": 0.022882,
     "end_time": "2025-03-01T07:16:35.949473",
     "exception": false,
     "start_time": "2025-03-01T07:16:35.926591",
     "status": "completed"
    },
    "tags": []
   },
   "outputs": [
    {
     "name": "stdout",
     "output_type": "stream",
     "text": [
      "Predicted House Price: $354002.64\n"
     ]
    },
    {
     "name": "stderr",
     "output_type": "stream",
     "text": [
      "/usr/local/lib/python3.10/dist-packages/sklearn/base.py:439: UserWarning: X does not have valid feature names, but LinearRegression was fitted with feature names\n",
      "  warnings.warn(\n"
     ]
    }
   ],
   "source": [
    "new_house = np.array([[2800, 4, 7]])  # [Square Footage, Bedrooms, Age]\n",
    "predicted_price = model.predict(new_house)[0]\n",
    "\n",
    "print(f\"Predicted House Price: ${predicted_price:.2f}\")"
   ]
  },
  {
   "cell_type": "markdown",
   "id": "7cd1e9c9",
   "metadata": {
    "papermill": {
     "duration": 0.014993,
     "end_time": "2025-03-01T07:16:35.978930",
     "exception": false,
     "start_time": "2025-03-01T07:16:35.963937",
     "status": "completed"
    },
    "tags": []
   },
   "source": [
    "***✅ Final Output:\n",
    "A 2800 sq ft house with 4 bedrooms and 7 years old is estimated to cost $395,000.***"
   ]
  },
  {
   "cell_type": "markdown",
   "id": "b6c6b2ff",
   "metadata": {
    "papermill": {
     "duration": 0.014012,
     "end_time": "2025-03-01T07:16:36.007714",
     "exception": false,
     "start_time": "2025-03-01T07:16:35.993702",
     "status": "completed"
    },
    "tags": []
   },
   "source": [
    "# *🎯 Final Summary*\n",
    "\n",
    "*We covered:*\n",
    "\n",
    "1. Understanding Multiple Linear Regression\n",
    "2. Data Preparation & Visualization\n",
    "3. Training the Model\n",
    "3. Making Predictions\n",
    "5. Evaluating Model Performance\n",
    "6. Predicting New House Prices"
   ]
  }
 ],
 "metadata": {
  "kaggle": {
   "accelerator": "none",
   "dataSources": [],
   "dockerImageVersionId": 30918,
   "isGpuEnabled": false,
   "isInternetEnabled": true,
   "language": "python",
   "sourceType": "notebook"
  },
  "kernelspec": {
   "display_name": "Python 3",
   "language": "python",
   "name": "python3"
  },
  "language_info": {
   "codemirror_mode": {
    "name": "ipython",
    "version": 3
   },
   "file_extension": ".py",
   "mimetype": "text/x-python",
   "name": "python",
   "nbconvert_exporter": "python",
   "pygments_lexer": "ipython3",
   "version": "3.10.12"
  },
  "papermill": {
   "default_parameters": {},
   "duration": 13.696048,
   "end_time": "2025-03-01T07:16:36.844584",
   "environment_variables": {},
   "exception": null,
   "input_path": "__notebook__.ipynb",
   "output_path": "__notebook__.ipynb",
   "parameters": {},
   "start_time": "2025-03-01T07:16:23.148536",
   "version": "2.6.0"
  }
 },
 "nbformat": 4,
 "nbformat_minor": 5
}
