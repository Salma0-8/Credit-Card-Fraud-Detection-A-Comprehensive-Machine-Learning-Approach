{
 "cells": [
  {
   "cell_type": "code",
   "execution_count": 1,
   "id": "3ed124a1",
   "metadata": {
    "_cell_guid": "b1076dfc-b9ad-4769-8c92-a6c4dae69d19",
    "_uuid": "8f2839f25d086af736a60e9eeb907d3b93b6e0e5",
    "execution": {
     "iopub.execute_input": "2025-02-28T00:47:46.358012Z",
     "iopub.status.busy": "2025-02-28T00:47:46.357721Z",
     "iopub.status.idle": "2025-02-28T00:47:47.179936Z",
     "shell.execute_reply": "2025-02-28T00:47:47.178883Z"
    },
    "papermill": {
     "duration": 0.835029,
     "end_time": "2025-02-28T00:47:47.181497",
     "exception": false,
     "start_time": "2025-02-28T00:47:46.346468",
     "status": "completed"
    },
    "tags": []
   },
   "outputs": [
    {
     "name": "stdout",
     "output_type": "stream",
     "text": [
      "/kaggle/input/paysim1/PS_20174392719_1491204439457_log.csv\n"
     ]
    }
   ],
   "source": [
    "# This Python 3 environment comes with many helpful analytics libraries installed\n",
    "# It is defined by the kaggle/python Docker image: https://github.com/kaggle/docker-python\n",
    "# For example, here's several helpful packages to load\n",
    "\n",
    "import numpy as np # linear algebra\n",
    "import pandas as pd # data processing, CSV file I/O (e.g. pd.read_csv)\n",
    "\n",
    "# Input data files are available in the read-only \"../input/\" directory\n",
    "# For example, running this (by clicking run or pressing Shift+Enter) will list all files under the input directory\n",
    "\n",
    "import os\n",
    "for dirname, _, filenames in os.walk('/kaggle/input'):\n",
    "    for filename in filenames:\n",
    "        print(os.path.join(dirname, filename))\n",
    "\n",
    "# You can write up to 20GB to the current directory (/kaggle/working/) that gets preserved as output when you create a version using \"Save & Run All\" \n",
    "# You can also write temporary files to /kaggle/temp/, but they won't be saved outside of the current session"
   ]
  },
  {
   "cell_type": "code",
   "execution_count": null,
   "id": "e30345fe",
   "metadata": {
    "papermill": {
     "duration": 0.008164,
     "end_time": "2025-02-28T00:47:47.199137",
     "exception": false,
     "start_time": "2025-02-28T00:47:47.190973",
     "status": "completed"
    },
    "tags": []
   },
   "outputs": [],
   "source": []
  },
  {
   "cell_type": "markdown",
   "id": "15777824",
   "metadata": {
    "papermill": {
     "duration": 0.008474,
     "end_time": "2025-02-28T00:47:47.215972",
     "exception": false,
     "start_time": "2025-02-28T00:47:47.207498",
     "status": "completed"
    },
    "tags": []
   },
   "source": [
    "# **📌 Step 1: Understanding the Problem**\n",
    "\n",
    "**The Story Begins…\n",
    "Imagine you are a data scientist at a financial company. Your job? Detect fraudulent transactions and prevent financial losses. Every day, thousands of transactions occur, and some are fraudulent—but catching them is like finding a needle in a haystack.**\n",
    "\n",
    "*You have been given a dataset, generated using PaySim, which simulates mobile money transactions. Your mission is to build a machine learning model that can predict fraud before it happens.*"
   ]
  },
  {
   "cell_type": "markdown",
   "id": "6bbd381c",
   "metadata": {
    "papermill": {
     "duration": 0.007784,
     "end_time": "2025-02-28T00:47:47.232630",
     "exception": false,
     "start_time": "2025-02-28T00:47:47.224846",
     "status": "completed"
    },
    "tags": []
   },
   "source": [
    "# **📌 Step 2: Importing the Necessary Libraries**"
   ]
  },
  {
   "cell_type": "markdown",
   "id": "1d0925df",
   "metadata": {
    "papermill": {
     "duration": 0.008115,
     "end_time": "2025-02-28T00:47:47.249077",
     "exception": false,
     "start_time": "2025-02-28T00:47:47.240962",
     "status": "completed"
    },
    "tags": []
   },
   "source": [
    "# **📌 Step 3: Loading the Dataset**"
   ]
  },
  {
   "cell_type": "code",
   "execution_count": 2,
   "id": "255c444c",
   "metadata": {
    "execution": {
     "iopub.execute_input": "2025-02-28T00:47:47.267104Z",
     "iopub.status.busy": "2025-02-28T00:47:47.266630Z",
     "iopub.status.idle": "2025-02-28T00:48:08.420392Z",
     "shell.execute_reply": "2025-02-28T00:48:08.419355Z"
    },
    "papermill": {
     "duration": 21.16441,
     "end_time": "2025-02-28T00:48:08.422040",
     "exception": false,
     "start_time": "2025-02-28T00:47:47.257630",
     "status": "completed"
    },
    "tags": []
   },
   "outputs": [
    {
     "data": {
      "text/html": [
       "<div>\n",
       "<style scoped>\n",
       "    .dataframe tbody tr th:only-of-type {\n",
       "        vertical-align: middle;\n",
       "    }\n",
       "\n",
       "    .dataframe tbody tr th {\n",
       "        vertical-align: top;\n",
       "    }\n",
       "\n",
       "    .dataframe thead th {\n",
       "        text-align: right;\n",
       "    }\n",
       "</style>\n",
       "<table border=\"1\" class=\"dataframe\">\n",
       "  <thead>\n",
       "    <tr style=\"text-align: right;\">\n",
       "      <th></th>\n",
       "      <th>step</th>\n",
       "      <th>type</th>\n",
       "      <th>amount</th>\n",
       "      <th>nameOrig</th>\n",
       "      <th>oldbalanceOrg</th>\n",
       "      <th>newbalanceOrig</th>\n",
       "      <th>nameDest</th>\n",
       "      <th>oldbalanceDest</th>\n",
       "      <th>newbalanceDest</th>\n",
       "      <th>isFraud</th>\n",
       "      <th>isFlaggedFraud</th>\n",
       "    </tr>\n",
       "  </thead>\n",
       "  <tbody>\n",
       "    <tr>\n",
       "      <th>0</th>\n",
       "      <td>1</td>\n",
       "      <td>PAYMENT</td>\n",
       "      <td>9839.64</td>\n",
       "      <td>C1231006815</td>\n",
       "      <td>170136.0</td>\n",
       "      <td>160296.36</td>\n",
       "      <td>M1979787155</td>\n",
       "      <td>0.0</td>\n",
       "      <td>0.0</td>\n",
       "      <td>0</td>\n",
       "      <td>0</td>\n",
       "    </tr>\n",
       "    <tr>\n",
       "      <th>1</th>\n",
       "      <td>1</td>\n",
       "      <td>PAYMENT</td>\n",
       "      <td>1864.28</td>\n",
       "      <td>C1666544295</td>\n",
       "      <td>21249.0</td>\n",
       "      <td>19384.72</td>\n",
       "      <td>M2044282225</td>\n",
       "      <td>0.0</td>\n",
       "      <td>0.0</td>\n",
       "      <td>0</td>\n",
       "      <td>0</td>\n",
       "    </tr>\n",
       "    <tr>\n",
       "      <th>2</th>\n",
       "      <td>1</td>\n",
       "      <td>TRANSFER</td>\n",
       "      <td>181.00</td>\n",
       "      <td>C1305486145</td>\n",
       "      <td>181.0</td>\n",
       "      <td>0.00</td>\n",
       "      <td>C553264065</td>\n",
       "      <td>0.0</td>\n",
       "      <td>0.0</td>\n",
       "      <td>1</td>\n",
       "      <td>0</td>\n",
       "    </tr>\n",
       "    <tr>\n",
       "      <th>3</th>\n",
       "      <td>1</td>\n",
       "      <td>CASH_OUT</td>\n",
       "      <td>181.00</td>\n",
       "      <td>C840083671</td>\n",
       "      <td>181.0</td>\n",
       "      <td>0.00</td>\n",
       "      <td>C38997010</td>\n",
       "      <td>21182.0</td>\n",
       "      <td>0.0</td>\n",
       "      <td>1</td>\n",
       "      <td>0</td>\n",
       "    </tr>\n",
       "    <tr>\n",
       "      <th>4</th>\n",
       "      <td>1</td>\n",
       "      <td>PAYMENT</td>\n",
       "      <td>11668.14</td>\n",
       "      <td>C2048537720</td>\n",
       "      <td>41554.0</td>\n",
       "      <td>29885.86</td>\n",
       "      <td>M1230701703</td>\n",
       "      <td>0.0</td>\n",
       "      <td>0.0</td>\n",
       "      <td>0</td>\n",
       "      <td>0</td>\n",
       "    </tr>\n",
       "  </tbody>\n",
       "</table>\n",
       "</div>"
      ],
      "text/plain": [
       "   step      type    amount     nameOrig  oldbalanceOrg  newbalanceOrig  \\\n",
       "0     1   PAYMENT   9839.64  C1231006815       170136.0       160296.36   \n",
       "1     1   PAYMENT   1864.28  C1666544295        21249.0        19384.72   \n",
       "2     1  TRANSFER    181.00  C1305486145          181.0            0.00   \n",
       "3     1  CASH_OUT    181.00   C840083671          181.0            0.00   \n",
       "4     1   PAYMENT  11668.14  C2048537720        41554.0        29885.86   \n",
       "\n",
       "      nameDest  oldbalanceDest  newbalanceDest  isFraud  isFlaggedFraud  \n",
       "0  M1979787155             0.0             0.0        0               0  \n",
       "1  M2044282225             0.0             0.0        0               0  \n",
       "2   C553264065             0.0             0.0        1               0  \n",
       "3    C38997010         21182.0             0.0        1               0  \n",
       "4  M1230701703             0.0             0.0        0               0  "
      ]
     },
     "execution_count": 2,
     "metadata": {},
     "output_type": "execute_result"
    }
   ],
   "source": [
    "# Basic libraries for data manipulation\n",
    "import pandas as pd\n",
    "import numpy as np\n",
    "\n",
    "# Visualization libraries\n",
    "import matplotlib.pyplot as plt\n",
    "import seaborn as sns\n",
    "\n",
    "# Machine Learning libraries\n",
    "from sklearn.model_selection import train_test_split\n",
    "from sklearn.preprocessing import LabelEncoder, StandardScaler\n",
    "from sklearn.ensemble import RandomForestClassifier\n",
    "from sklearn.metrics import classification_report, confusion_matrix, accuracy_score\n",
    "\n",
    "# Ignore warnings for better readability\n",
    "import warnings\n",
    "warnings.filterwarnings('ignore')\n",
    "\n",
    "# Set a visual style\n",
    "sns.set_style(\"whitegrid\")\n",
    "\n",
    "file_path = \"/kaggle/input/paysim1/PS_20174392719_1491204439457_log.csv\"\n",
    "df = pd.read_csv(file_path)\n",
    "df.head()"
   ]
  },
  {
   "cell_type": "markdown",
   "id": "98b43629",
   "metadata": {
    "papermill": {
     "duration": 0.009106,
     "end_time": "2025-02-28T00:48:08.441156",
     "exception": false,
     "start_time": "2025-02-28T00:48:08.432050",
     "status": "completed"
    },
    "tags": []
   },
   "source": [
    "# **📌 Step 4: Exploring the Data**"
   ]
  },
  {
   "cell_type": "code",
   "execution_count": 3,
   "id": "87c041e5",
   "metadata": {
    "execution": {
     "iopub.execute_input": "2025-02-28T00:48:08.461741Z",
     "iopub.status.busy": "2025-02-28T00:48:08.461367Z",
     "iopub.status.idle": "2025-02-28T00:48:11.323256Z",
     "shell.execute_reply": "2025-02-28T00:48:11.322271Z"
    },
    "papermill": {
     "duration": 2.874476,
     "end_time": "2025-02-28T00:48:11.324855",
     "exception": false,
     "start_time": "2025-02-28T00:48:08.450379",
     "status": "completed"
    },
    "tags": []
   },
   "outputs": [
    {
     "name": "stdout",
     "output_type": "stream",
     "text": [
      "<class 'pandas.core.frame.DataFrame'>\n",
      "RangeIndex: 6362620 entries, 0 to 6362619\n",
      "Data columns (total 11 columns):\n",
      " #   Column          Dtype  \n",
      "---  ------          -----  \n",
      " 0   step            int64  \n",
      " 1   type            object \n",
      " 2   amount          float64\n",
      " 3   nameOrig        object \n",
      " 4   oldbalanceOrg   float64\n",
      " 5   newbalanceOrig  float64\n",
      " 6   nameDest        object \n",
      " 7   oldbalanceDest  float64\n",
      " 8   newbalanceDest  float64\n",
      " 9   isFraud         int64  \n",
      " 10  isFlaggedFraud  int64  \n",
      "dtypes: float64(5), int64(3), object(3)\n",
      "memory usage: 534.0+ MB\n"
     ]
    },
    {
     "data": {
      "text/plain": [
       "step              0\n",
       "type              0\n",
       "amount            0\n",
       "nameOrig          0\n",
       "oldbalanceOrg     0\n",
       "newbalanceOrig    0\n",
       "nameDest          0\n",
       "oldbalanceDest    0\n",
       "newbalanceDest    0\n",
       "isFraud           0\n",
       "isFlaggedFraud    0\n",
       "dtype: int64"
      ]
     },
     "execution_count": 3,
     "metadata": {},
     "output_type": "execute_result"
    }
   ],
   "source": [
    "df.info()\n",
    "df.describe()\n",
    "df.isnull().sum()"
   ]
  },
  {
   "cell_type": "markdown",
   "id": "effebd58",
   "metadata": {
    "papermill": {
     "duration": 0.007943,
     "end_time": "2025-02-28T00:48:11.341381",
     "exception": false,
     "start_time": "2025-02-28T00:48:11.333438",
     "status": "completed"
    },
    "tags": []
   },
   "source": [
    "# **📌 Step 5: Understanding Fraudulent Transactions**\n",
    "\n",
    "> Finding the Needle in the Haystack\n",
    "\n",
    "> Now, let’s check how many transactions are fraudulent."
   ]
  },
  {
   "cell_type": "code",
   "execution_count": 4,
   "id": "d73c0dde",
   "metadata": {
    "execution": {
     "iopub.execute_input": "2025-02-28T00:48:11.359160Z",
     "iopub.status.busy": "2025-02-28T00:48:11.358840Z",
     "iopub.status.idle": "2025-02-28T00:48:11.631426Z",
     "shell.execute_reply": "2025-02-28T00:48:11.630518Z"
    },
    "papermill": {
     "duration": 0.283256,
     "end_time": "2025-02-28T00:48:11.632817",
     "exception": false,
     "start_time": "2025-02-28T00:48:11.349561",
     "status": "completed"
    },
    "tags": []
   },
   "outputs": [
    {
     "name": "stdout",
     "output_type": "stream",
     "text": [
      "isFraud\n",
      "0    6354407\n",
      "1       8213\n",
      "Name: count, dtype: int64\n"
     ]
    },
    {
     "data": {
      "image/png": "[encoded data removed]",
      "text/plain": [
       "<Figure size 600x400 with 1 Axes>"
      ]
     },
     "metadata": {},
     "output_type": "display_data"
    }
   ],
   "source": [
    "# Count fraud vs. non-fraud transactions\n",
    "fraud_counts = df['isFraud'].value_counts()\n",
    "print(fraud_counts)\n",
    "\n",
    "plt.figure(figsize=(6, 4))\n",
    "sns.barplot(x=fraud_counts.index, y=fraud_counts.values, palette=\"coolwarm\")\n",
    "plt.xticks([0, 1], [\"Not Fraud\", \"Fraud\"])\n",
    "plt.xlabel(\"Transaction Type\")\n",
    "plt.ylabel(\"Count\")\n",
    "plt.title(\"Distribution of Fraudulent Transactions\")\n",
    "plt.show()"
   ]
  },
  {
   "cell_type": "markdown",
   "id": "87696a50",
   "metadata": {
    "papermill": {
     "duration": 0.008476,
     "end_time": "2025-02-28T00:48:11.650626",
     "exception": false,
     "start_time": "2025-02-28T00:48:11.642150",
     "status": "completed"
    },
    "tags": []
   },
   "source": [
    "*🔹 Wow! Fraudulent transactions are extremely rare. This is a common challenge in fraud detection—our data is imbalanced, meaning we need special techniques to train our model properly.*"
   ]
  },
  {
   "cell_type": "markdown",
   "id": "09521f37",
   "metadata": {
    "papermill": {
     "duration": 0.008411,
     "end_time": "2025-02-28T00:48:11.667539",
     "exception": false,
     "start_time": "2025-02-28T00:48:11.659128",
     "status": "completed"
    },
    "tags": []
   },
   "source": [
    "# **📌 Step 6: Understanding Transaction Types**"
   ]
  },
  {
   "cell_type": "markdown",
   "id": "dd223fc8",
   "metadata": {
    "papermill": {
     "duration": 0.008161,
     "end_time": "2025-02-28T00:48:11.684861",
     "exception": false,
     "start_time": "2025-02-28T00:48:11.676700",
     "status": "completed"
    },
    "tags": []
   },
   "source": [
    "> ***Which Transaction Types Are Risky?***"
   ]
  },
  {
   "cell_type": "code",
   "execution_count": 5,
   "id": "bd617a16",
   "metadata": {
    "execution": {
     "iopub.execute_input": "2025-02-28T00:48:11.703195Z",
     "iopub.status.busy": "2025-02-28T00:48:11.702841Z",
     "iopub.status.idle": "2025-02-28T00:48:14.693306Z",
     "shell.execute_reply": "2025-02-28T00:48:14.692308Z"
    },
    "papermill": {
     "duration": 3.001638,
     "end_time": "2025-02-28T00:48:14.695035",
     "exception": false,
     "start_time": "2025-02-28T00:48:11.693397",
     "status": "completed"
    },
    "tags": []
   },
   "outputs": [
    {
     "data": {
      "image/png": "[encoded data removed]",
      "text/plain": [
       "<Figure size 800x400 with 1 Axes>"
      ]
     },
     "metadata": {},
     "output_type": "display_data"
    }
   ],
   "source": [
    "# Count transaction types\n",
    "plt.figure(figsize=(8, 4))\n",
    "sns.countplot(data=df, x=\"type\", palette=\"viridis\", order=df[\"type\"].value_counts().index)\n",
    "plt.title(\"Transaction Types Distribution\")\n",
    "plt.show()"
   ]
  },
  {
   "cell_type": "markdown",
   "id": "1903acbb",
   "metadata": {
    "papermill": {
     "duration": 0.009854,
     "end_time": "2025-02-28T00:48:14.715165",
     "exception": false,
     "start_time": "2025-02-28T00:48:14.705311",
     "status": "completed"
    },
    "tags": []
   },
   "source": [
    "> *🔹 It looks like most transactions are PAYMENT, CASH-OUT, CASH_IN type and TRANSFER. But which ones are most fraud prone?*"
   ]
  },
  {
   "cell_type": "code",
   "execution_count": 6,
   "id": "ffa94009",
   "metadata": {
    "execution": {
     "iopub.execute_input": "2025-02-28T00:48:14.735132Z",
     "iopub.status.busy": "2025-02-28T00:48:14.734798Z",
     "iopub.status.idle": "2025-02-28T00:48:15.276015Z",
     "shell.execute_reply": "2025-02-28T00:48:15.274796Z"
    },
    "papermill": {
     "duration": 0.552824,
     "end_time": "2025-02-28T00:48:15.277491",
     "exception": false,
     "start_time": "2025-02-28T00:48:14.724667",
     "status": "completed"
    },
    "tags": []
   },
   "outputs": [
    {
     "name": "stdout",
     "output_type": "stream",
     "text": [
      "type\n",
      "TRANSFER    0.007688\n",
      "CASH_OUT    0.001840\n",
      "CASH_IN     0.000000\n",
      "DEBIT       0.000000\n",
      "PAYMENT     0.000000\n",
      "Name: isFraud, dtype: float64\n"
     ]
    }
   ],
   "source": [
    "# Fraud percentage per transaction type\n",
    "fraud_by_type = df.groupby(\"type\")[\"isFraud\"].mean().sort_values(ascending=False)\n",
    "print(fraud_by_type)"
   ]
  },
  {
   "cell_type": "markdown",
   "id": "927a0c61",
   "metadata": {
    "papermill": {
     "duration": 0.009173,
     "end_time": "2025-02-28T00:48:15.296540",
     "exception": false,
     "start_time": "2025-02-28T00:48:15.287367",
     "status": "completed"
    },
    "tags": []
   },
   "source": [
    "> *🔹 Interesting. The TRANSFER and CASH-OUT transactions have the highest fraud rates. This makes sense fraudsters often transfer money to another account and cash it out.*"
   ]
  },
  {
   "cell_type": "markdown",
   "id": "afd9ce1d",
   "metadata": {
    "papermill": {
     "duration": 0.008633,
     "end_time": "2025-02-28T00:48:15.313930",
     "exception": false,
     "start_time": "2025-02-28T00:48:15.305297",
     "status": "completed"
    },
    "tags": []
   },
   "source": [
    "# **📌 Step 7: Data Preprocessing**"
   ]
  },
  {
   "cell_type": "markdown",
   "id": "388ff03f",
   "metadata": {
    "papermill": {
     "duration": 0.008757,
     "end_time": "2025-02-28T00:48:15.331735",
     "exception": false,
     "start_time": "2025-02-28T00:48:15.322978",
     "status": "completed"
    },
    "tags": []
   },
   "source": [
    "***Preparing the Data for Machine Learning***\n",
    "\n",
    "***Before we train our model, we need to clean and prepare the dataset.***"
   ]
  },
  {
   "cell_type": "markdown",
   "id": "317f8190",
   "metadata": {
    "papermill": {
     "duration": 0.008787,
     "end_time": "2025-02-28T00:48:15.349692",
     "exception": false,
     "start_time": "2025-02-28T00:48:15.340905",
     "status": "completed"
    },
    "tags": []
   },
   "source": [
    "> 1️⃣ Removing Unnecessary Columns"
   ]
  },
  {
   "cell_type": "code",
   "execution_count": 7,
   "id": "114ac677",
   "metadata": {
    "execution": {
     "iopub.execute_input": "2025-02-28T00:48:15.369495Z",
     "iopub.status.busy": "2025-02-28T00:48:15.369136Z",
     "iopub.status.idle": "2025-02-28T00:48:15.563039Z",
     "shell.execute_reply": "2025-02-28T00:48:15.562297Z"
    },
    "papermill": {
     "duration": 0.20555,
     "end_time": "2025-02-28T00:48:15.564742",
     "exception": false,
     "start_time": "2025-02-28T00:48:15.359192",
     "status": "completed"
    },
    "tags": []
   },
   "outputs": [],
   "source": [
    "df = df.drop(['nameOrig', 'nameDest'], axis=1)"
   ]
  },
  {
   "cell_type": "markdown",
   "id": "fe6ead89",
   "metadata": {
    "papermill": {
     "duration": 0.009145,
     "end_time": "2025-02-28T00:48:15.583812",
     "exception": false,
     "start_time": "2025-02-28T00:48:15.574667",
     "status": "completed"
    },
    "tags": []
   },
   "source": [
    "> 2️⃣ Encoding Categorical Features"
   ]
  },
  {
   "cell_type": "code",
   "execution_count": 8,
   "id": "23ef17d4",
   "metadata": {
    "execution": {
     "iopub.execute_input": "2025-02-28T00:48:15.603773Z",
     "iopub.status.busy": "2025-02-28T00:48:15.603486Z",
     "iopub.status.idle": "2025-02-28T00:48:16.852683Z",
     "shell.execute_reply": "2025-02-28T00:48:16.851877Z"
    },
    "papermill": {
     "duration": 1.261253,
     "end_time": "2025-02-28T00:48:16.854308",
     "exception": false,
     "start_time": "2025-02-28T00:48:15.593055",
     "status": "completed"
    },
    "tags": []
   },
   "outputs": [],
   "source": [
    "# Convert 'type' to numerical values using Label Encoding\n",
    "encoder = LabelEncoder()\n",
    "df[\"type\"] = encoder.fit_transform(df[\"type\"])"
   ]
  },
  {
   "cell_type": "markdown",
   "id": "5e9d713e",
   "metadata": {
    "papermill": {
     "duration": 0.009028,
     "end_time": "2025-02-28T00:48:16.873814",
     "exception": false,
     "start_time": "2025-02-28T00:48:16.864786",
     "status": "completed"
    },
    "tags": []
   },
   "source": [
    "> 3️⃣ Handling Class Imbalance"
   ]
  },
  {
   "cell_type": "markdown",
   "id": "d317ec19",
   "metadata": {
    "papermill": {
     "duration": 0.008956,
     "end_time": "2025-02-28T00:48:16.891676",
     "exception": false,
     "start_time": "2025-02-28T00:48:16.882720",
     "status": "completed"
    },
    "tags": []
   },
   "source": [
    "*Because fraud cases are rare, we need to handle data imbalance.*"
   ]
  },
  {
   "cell_type": "code",
   "execution_count": 9,
   "id": "f616dada",
   "metadata": {
    "execution": {
     "iopub.execute_input": "2025-02-28T00:48:16.911235Z",
     "iopub.status.busy": "2025-02-28T00:48:16.910942Z",
     "iopub.status.idle": "2025-02-28T00:48:17.459424Z",
     "shell.execute_reply": "2025-02-28T00:48:17.458398Z"
    },
    "papermill": {
     "duration": 0.560399,
     "end_time": "2025-02-28T00:48:17.461227",
     "exception": false,
     "start_time": "2025-02-28T00:48:16.900828",
     "status": "completed"
    },
    "tags": []
   },
   "outputs": [],
   "source": [
    "# Downsample majority class (non-fraud transactions) to match the minority class\n",
    "fraud = df[df[\"isFraud\"] == 1]\n",
    "non_fraud = df[df[\"isFraud\"] == 0].sample(n=len(fraud), random_state=42)\n",
    "\n",
    "# Combine fraud and non-fraud samples\n",
    "balanced_df = pd.concat([fraud, non_fraud])\n",
    "\n",
    "# Shuffle dataset\n",
    "balanced_df = balanced_df.sample(frac=1, random_state=42).reset_index(drop=True)"
   ]
  },
  {
   "cell_type": "markdown",
   "id": "274144b6",
   "metadata": {
    "papermill": {
     "duration": 0.00955,
     "end_time": "2025-02-28T00:48:17.481519",
     "exception": false,
     "start_time": "2025-02-28T00:48:17.471969",
     "status": "completed"
    },
    "tags": []
   },
   "source": [
    "# **📌 Step 8: Splitting Data for Training & Testing**"
   ]
  },
  {
   "cell_type": "markdown",
   "id": "bcc5b07e",
   "metadata": {
    "papermill": {
     "duration": 0.008998,
     "end_time": "2025-02-28T00:48:17.500208",
     "exception": false,
     "start_time": "2025-02-28T00:48:17.491210",
     "status": "completed"
    },
    "tags": []
   },
   "source": [
    "> **spliting the dataset into a training set (80%) and a test set (20%).**"
   ]
  },
  {
   "cell_type": "code",
   "execution_count": 10,
   "id": "9740561a",
   "metadata": {
    "execution": {
     "iopub.execute_input": "2025-02-28T00:48:17.520366Z",
     "iopub.status.busy": "2025-02-28T00:48:17.520044Z",
     "iopub.status.idle": "2025-02-28T00:48:17.527746Z",
     "shell.execute_reply": "2025-02-28T00:48:17.527034Z"
    },
    "papermill": {
     "duration": 0.019333,
     "end_time": "2025-02-28T00:48:17.528968",
     "exception": false,
     "start_time": "2025-02-28T00:48:17.509635",
     "status": "completed"
    },
    "tags": []
   },
   "outputs": [],
   "source": [
    "X = balanced_df.drop(\"isFraud\", axis=1)\n",
    "y = balanced_df[\"isFraud\"]\n",
    "X_train, X_test, y_train, y_test = train_test_split(X, y, test_size=0.2, random_state=42)"
   ]
  },
  {
   "cell_type": "markdown",
   "id": "3ede4b14",
   "metadata": {
    "papermill": {
     "duration": 0.008935,
     "end_time": "2025-02-28T00:48:17.547190",
     "exception": false,
     "start_time": "2025-02-28T00:48:17.538255",
     "status": "completed"
    },
    "tags": []
   },
   "source": [
    "# **📌 Step 9: Training a Machine Learning Model**"
   ]
  },
  {
   "cell_type": "markdown",
   "id": "f0d81cab",
   "metadata": {
    "papermill": {
     "duration": 0.009058,
     "end_time": "2025-02-28T00:48:17.565453",
     "exception": false,
     "start_time": "2025-02-28T00:48:17.556395",
     "status": "completed"
    },
    "tags": []
   },
   "source": [
    "> ***The Fraud Detector in Action***"
   ]
  },
  {
   "cell_type": "code",
   "execution_count": 11,
   "id": "2e9d32c9",
   "metadata": {
    "execution": {
     "iopub.execute_input": "2025-02-28T00:48:17.584537Z",
     "iopub.status.busy": "2025-02-28T00:48:17.584195Z",
     "iopub.status.idle": "2025-02-28T00:48:18.660478Z",
     "shell.execute_reply": "2025-02-28T00:48:18.659549Z"
    },
    "papermill": {
     "duration": 1.087486,
     "end_time": "2025-02-28T00:48:18.661850",
     "exception": false,
     "start_time": "2025-02-28T00:48:17.574364",
     "status": "completed"
    },
    "tags": []
   },
   "outputs": [
    {
     "data": {
      "text/html": [
       "<style>#sk-container-id-1 {color: black;background-color: white;}#sk-container-id-1 pre{padding: 0;}#sk-container-id-1 div.sk-toggleable {background-color: white;}#sk-container-id-1 label.sk-toggleable__label {cursor: pointer;display: block;width: 100%;margin-bottom: 0;padding: 0.3em;box-sizing: border-box;text-align: center;}#sk-container-id-1 label.sk-toggleable__label-arrow:before {content: \"▸\";float: left;margin-right: 0.25em;color: #696969;}#sk-container-id-1 label.sk-toggleable__label-arrow:hover:before {color: black;}#sk-container-id-1 div.sk-estimator:hover label.sk-toggleable__label-arrow:before {color: black;}#sk-container-id-1 div.sk-toggleable__content {max-height: 0;max-width: 0;overflow: hidden;text-align: left;background-color: #f0f8ff;}#sk-container-id-1 div.sk-toggleable__content pre {margin: 0.2em;color: black;border-radius: 0.25em;background-color: #f0f8ff;}#sk-container-id-1 input.sk-toggleable__control:checked~div.sk-toggleable__content {max-height: 200px;max-width: 100%;overflow: auto;}#sk-container-id-1 input.sk-toggleable__control:checked~label.sk-toggleable__label-arrow:before {content: \"▾\";}#sk-container-id-1 div.sk-estimator input.sk-toggleable__control:checked~label.sk-toggleable__label {background-color: #d4ebff;}#sk-container-id-1 div.sk-label input.sk-toggleable__control:checked~label.sk-toggleable__label {background-color: #d4ebff;}#sk-container-id-1 input.sk-hidden--visually {border: 0;clip: rect(1px 1px 1px 1px);clip: rect(1px, 1px, 1px, 1px);height: 1px;margin: -1px;overflow: hidden;padding: 0;position: absolute;width: 1px;}#sk-container-id-1 div.sk-estimator {font-family: monospace;background-color: #f0f8ff;border: 1px dotted black;border-radius: 0.25em;box-sizing: border-box;margin-bottom: 0.5em;}#sk-container-id-1 div.sk-estimator:hover {background-color: #d4ebff;}#sk-container-id-1 div.sk-parallel-item::after {content: \"\";width: 100%;border-bottom: 1px solid gray;flex-grow: 1;}#sk-container-id-1 div.sk-label:hover label.sk-toggleable__label {background-color: #d4ebff;}#sk-container-id-1 div.sk-serial::before {content: \"\";position: absolute;border-left: 1px solid gray;box-sizing: border-box;top: 0;bottom: 0;left: 50%;z-index: 0;}#sk-container-id-1 div.sk-serial {display: flex;flex-direction: column;align-items: center;background-color: white;padding-right: 0.2em;padding-left: 0.2em;position: relative;}#sk-container-id-1 div.sk-item {position: relative;z-index: 1;}#sk-container-id-1 div.sk-parallel {display: flex;align-items: stretch;justify-content: center;background-color: white;position: relative;}#sk-container-id-1 div.sk-item::before, #sk-container-id-1 div.sk-parallel-item::before {content: \"\";position: absolute;border-left: 1px solid gray;box-sizing: border-box;top: 0;bottom: 0;left: 50%;z-index: -1;}#sk-container-id-1 div.sk-parallel-item {display: flex;flex-direction: column;z-index: 1;position: relative;background-color: white;}#sk-container-id-1 div.sk-parallel-item:first-child::after {align-self: flex-end;width: 50%;}#sk-container-id-1 div.sk-parallel-item:last-child::after {align-self: flex-start;width: 50%;}#sk-container-id-1 div.sk-parallel-item:only-child::after {width: 0;}#sk-container-id-1 div.sk-dashed-wrapped {border: 1px dashed gray;margin: 0 0.4em 0.5em 0.4em;box-sizing: border-box;padding-bottom: 0.4em;background-color: white;}#sk-container-id-1 div.sk-label label {font-family: monospace;font-weight: bold;display: inline-block;line-height: 1.2em;}#sk-container-id-1 div.sk-label-container {text-align: center;}#sk-container-id-1 div.sk-container {/* jupyter's `normalize.less` sets `[hidden] { display: none; }` but bootstrap.min.css set `[hidden] { display: none !important; }` so we also need the `!important` here to be able to override the default hidden behavior on the sphinx rendered scikit-learn.org. See: https://github.com/scikit-learn/scikit-learn/issues/21755 */display: inline-block !important;position: relative;}#sk-container-id-1 div.sk-text-repr-fallback {display: none;}</style><div id=\"sk-container-id-1\" class=\"sk-top-container\"><div class=\"sk-text-repr-fallback\"><pre>RandomForestClassifier(random_state=42)</pre><b>In a Jupyter environment, please rerun this cell to show the HTML representation or trust the notebook. <br />On GitHub, the HTML representation is unable to render, please try loading this page with nbviewer.org.</b></div><div class=\"sk-container\" hidden><div class=\"sk-item\"><div class=\"sk-estimator sk-toggleable\"><input class=\"sk-toggleable__control sk-hidden--visually\" id=\"sk-estimator-id-1\" type=\"checkbox\" checked><label for=\"sk-estimator-id-1\" class=\"sk-toggleable__label sk-toggleable__label-arrow\">RandomForestClassifier</label><div class=\"sk-toggleable__content\"><pre>RandomForestClassifier(random_state=42)</pre></div></div></div></div></div>"
      ],
      "text/plain": [
       "RandomForestClassifier(random_state=42)"
      ]
     },
     "execution_count": 11,
     "metadata": {},
     "output_type": "execute_result"
    }
   ],
   "source": [
    "model = RandomForestClassifier(n_estimators=100, random_state=42)\n",
    "model.fit(X_train, y_train)"
   ]
  },
  {
   "cell_type": "markdown",
   "id": "921ce544",
   "metadata": {
    "papermill": {
     "duration": 0.009477,
     "end_time": "2025-02-28T00:48:18.681055",
     "exception": false,
     "start_time": "2025-02-28T00:48:18.671578",
     "status": "completed"
    },
    "tags": []
   },
   "source": [
    "# **📌 Step 10: Evaluating the Model**"
   ]
  },
  {
   "cell_type": "markdown",
   "id": "7f00ad44",
   "metadata": {
    "papermill": {
     "duration": 0.009092,
     "end_time": "2025-02-28T00:48:18.699847",
     "exception": false,
     "start_time": "2025-02-28T00:48:18.690755",
     "status": "completed"
    },
    "tags": []
   },
   "source": [
    "***1️⃣ Classification Report, Did we catch the fraudsters?***"
   ]
  },
  {
   "cell_type": "code",
   "execution_count": 12,
   "id": "5fa74233",
   "metadata": {
    "execution": {
     "iopub.execute_input": "2025-02-28T00:48:18.719914Z",
     "iopub.status.busy": "2025-02-28T00:48:18.719609Z",
     "iopub.status.idle": "2025-02-28T00:48:18.772764Z",
     "shell.execute_reply": "2025-02-28T00:48:18.771645Z"
    },
    "papermill": {
     "duration": 0.06495,
     "end_time": "2025-02-28T00:48:18.774089",
     "exception": false,
     "start_time": "2025-02-28T00:48:18.709139",
     "status": "completed"
    },
    "tags": []
   },
   "outputs": [
    {
     "name": "stdout",
     "output_type": "stream",
     "text": [
      "Accuracy: 0.9930006086427268\n",
      "Classification Report:\n",
      "               precision    recall  f1-score   support\n",
      "\n",
      "           0       1.00      0.99      0.99      1622\n",
      "           1       0.99      1.00      0.99      1664\n",
      "\n",
      "    accuracy                           0.99      3286\n",
      "   macro avg       0.99      0.99      0.99      3286\n",
      "weighted avg       0.99      0.99      0.99      3286\n",
      "\n"
     ]
    }
   ],
   "source": [
    "y_pred = model.predict(X_test)\n",
    "print(\"Accuracy:\", accuracy_score(y_test, y_pred))\n",
    "print(\"Classification Report:\\n\", classification_report(y_test, y_pred))"
   ]
  },
  {
   "cell_type": "markdown",
   "id": "b4780a27",
   "metadata": {
    "papermill": {
     "duration": 0.05838,
     "end_time": "2025-02-28T00:48:18.842201",
     "exception": false,
     "start_time": "2025-02-28T00:48:18.783821",
     "status": "completed"
    },
    "tags": []
   },
   "source": [
    "> Look at the Precision and Recall for fraud cases (1s).\n",
    "\n",
    "* High Precision (close to 1) → Model makes fewer false fraud alerts.\n",
    "* High Recall (close to 1) → Model catches more actual fraud cases.\n",
    "* F1-score balances both!"
   ]
  },
  {
   "cell_type": "markdown",
   "id": "4236b188",
   "metadata": {
    "papermill": {
     "duration": 0.010022,
     "end_time": "2025-02-28T00:48:18.862181",
     "exception": false,
     "start_time": "2025-02-28T00:48:18.852159",
     "status": "completed"
    },
    "tags": []
   },
   "source": [
    "***2️⃣ Confusion Matrix: How Many Frauds Are Caught?***"
   ]
  },
  {
   "cell_type": "markdown",
   "id": "48455c7a",
   "metadata": {
    "papermill": {
     "duration": 0.010162,
     "end_time": "2025-02-28T00:48:18.882687",
     "exception": false,
     "start_time": "2025-02-28T00:48:18.872525",
     "status": "completed"
    },
    "tags": []
   },
   "source": [
    "* true positives (correct fraud cases detected).\n",
    "* false negatives (missed frauds)."
   ]
  },
  {
   "cell_type": "code",
   "execution_count": 13,
   "id": "8710e994",
   "metadata": {
    "execution": {
     "iopub.execute_input": "2025-02-28T00:48:18.904071Z",
     "iopub.status.busy": "2025-02-28T00:48:18.903752Z",
     "iopub.status.idle": "2025-02-28T00:48:19.223752Z",
     "shell.execute_reply": "2025-02-28T00:48:19.222740Z"
    },
    "papermill": {
     "duration": 0.332904,
     "end_time": "2025-02-28T00:48:19.225519",
     "exception": false,
     "start_time": "2025-02-28T00:48:18.892615",
     "status": "completed"
    },
    "tags": []
   },
   "outputs": [
    {
     "data": {
      "image/png": "[encoded data removed]",
      "text/plain": [
       "<Figure size 500x400 with 2 Axes>"
      ]
     },
     "metadata": {},
     "output_type": "display_data"
    }
   ],
   "source": [
    "cm = confusion_matrix(y_test, y_pred)\n",
    "\n",
    "plt.figure(figsize=(5, 4))\n",
    "sns.heatmap(cm, annot=True, fmt=\"d\", cmap=\"coolwarm\", xticklabels=[\"Not Fraud\", \"Fraud\"], yticklabels=[\"Not Fraud\", \"Fraud\"])\n",
    "plt.xlabel(\"Predicted\")\n",
    "plt.ylabel(\"Actual\")\n",
    "plt.title(\"Confusion Matrix\")\n",
    "plt.show()"
   ]
  },
  {
   "cell_type": "markdown",
   "id": "8d905009",
   "metadata": {
    "papermill": {
     "duration": 0.009572,
     "end_time": "2025-02-28T00:48:19.245956",
     "exception": false,
     "start_time": "2025-02-28T00:48:19.236384",
     "status": "completed"
    },
    "tags": []
   },
   "source": [
    "> * False Negatives (Bottom-Left Box): Actual fraud but predicted as non-fraud.\n",
    "> * False Positives (Top-Right Box): Model flags legit transactions as fraud."
   ]
  },
  {
   "cell_type": "markdown",
   "id": "0de5e567",
   "metadata": {
    "papermill": {
     "duration": 0.00917,
     "end_time": "2025-02-28T00:48:19.264892",
     "exception": false,
     "start_time": "2025-02-28T00:48:19.255722",
     "status": "completed"
    },
    "tags": []
   },
   "source": [
    "***3️⃣ Adjusting the Threshold for Better Fraud Detection***"
   ]
  },
  {
   "cell_type": "code",
   "execution_count": 14,
   "id": "0f440911",
   "metadata": {
    "execution": {
     "iopub.execute_input": "2025-02-28T00:48:19.287082Z",
     "iopub.status.busy": "2025-02-28T00:48:19.286767Z",
     "iopub.status.idle": "2025-02-28T00:48:19.340512Z",
     "shell.execute_reply": "2025-02-28T00:48:19.339377Z"
    },
    "papermill": {
     "duration": 0.067206,
     "end_time": "2025-02-28T00:48:19.342117",
     "exception": false,
     "start_time": "2025-02-28T00:48:19.274911",
     "status": "completed"
    },
    "tags": []
   },
   "outputs": [
    {
     "name": "stdout",
     "output_type": "stream",
     "text": [
      "              precision    recall  f1-score   support\n",
      "\n",
      "           0       1.00      0.98      0.99      1622\n",
      "           1       0.98      1.00      0.99      1664\n",
      "\n",
      "    accuracy                           0.99      3286\n",
      "   macro avg       0.99      0.99      0.99      3286\n",
      "weighted avg       0.99      0.99      0.99      3286\n",
      "\n"
     ]
    }
   ],
   "source": [
    "y_probs = model.predict_proba(X_test)[:, 1]  # Probabilities of being fraud\n",
    "threshold = 0.3\n",
    "y_pred_new = (y_probs > threshold).astype(int)\n",
    "print(classification_report(y_test, y_pred_new))"
   ]
  },
  {
   "cell_type": "markdown",
   "id": "ef7dd9e2",
   "metadata": {
    "papermill": {
     "duration": 0.010333,
     "end_time": "2025-02-28T00:48:19.364511",
     "exception": false,
     "start_time": "2025-02-28T00:48:19.354178",
     "status": "completed"
    },
    "tags": []
   },
   "source": [
    "> *🔹 Lowering the threshold means catching more fraud cases (higher recall), but it might increase false alarms.*"
   ]
  },
  {
   "cell_type": "markdown",
   "id": "cd4e01be",
   "metadata": {
    "papermill": {
     "duration": 0.010704,
     "end_time": "2025-02-28T00:48:19.385907",
     "exception": false,
     "start_time": "2025-02-28T00:48:19.375203",
     "status": "completed"
    },
    "tags": []
   },
   "source": [
    "# **📌 Step 11: Trying XGBoost for Better Performance**"
   ]
  },
  {
   "cell_type": "markdown",
   "id": "3133416f",
   "metadata": {
    "papermill": {
     "duration": 0.010712,
     "end_time": "2025-02-28T00:48:19.407695",
     "exception": false,
     "start_time": "2025-02-28T00:48:19.396983",
     "status": "completed"
    },
    "tags": []
   },
   "source": [
    "> *XGBoost is faster, handles imbalanced data well, and often outperforms Random Forest in fraud detection.*"
   ]
  },
  {
   "cell_type": "code",
   "execution_count": 15,
   "id": "1b515050",
   "metadata": {
    "execution": {
     "iopub.execute_input": "2025-02-28T00:48:19.429950Z",
     "iopub.status.busy": "2025-02-28T00:48:19.429633Z",
     "iopub.status.idle": "2025-02-28T00:48:19.942646Z",
     "shell.execute_reply": "2025-02-28T00:48:19.940688Z"
    },
    "papermill": {
     "duration": 0.525407,
     "end_time": "2025-02-28T00:48:19.944086",
     "exception": false,
     "start_time": "2025-02-28T00:48:19.418679",
     "status": "completed"
    },
    "tags": []
   },
   "outputs": [
    {
     "name": "stdout",
     "output_type": "stream",
     "text": [
      "              precision    recall  f1-score   support\n",
      "\n",
      "           0       1.00      0.99      1.00      1622\n",
      "           1       0.99      1.00      1.00      1664\n",
      "\n",
      "    accuracy                           1.00      3286\n",
      "   macro avg       1.00      1.00      1.00      3286\n",
      "weighted avg       1.00      1.00      1.00      3286\n",
      "\n"
     ]
    }
   ],
   "source": [
    "import xgboost as xgb\n",
    "from sklearn.metrics import classification_report\n",
    "xgb_model = xgb.XGBClassifier(use_label_encoder=False, eval_metric=\"logloss\")\n",
    "xgb_model.fit(X_train, y_train)\n",
    "y_pred_xgb = xgb_model.predict(X_test)\n",
    "print(classification_report(y_test, y_pred_xgb))"
   ]
  },
  {
   "cell_type": "markdown",
   "id": "409bec46",
   "metadata": {
    "papermill": {
     "duration": 0.011011,
     "end_time": "2025-02-28T00:48:19.966988",
     "exception": false,
     "start_time": "2025-02-28T00:48:19.955977",
     "status": "completed"
    },
    "tags": []
   },
   "source": [
    "> ***If the model gets 100% accuracy on training data, it might just be memorizing the dataset.\n",
    "Let's compare training vs. test accuracy:***"
   ]
  },
  {
   "cell_type": "markdown",
   "id": "e1ecc4d5",
   "metadata": {
    "papermill": {
     "duration": 0.010466,
     "end_time": "2025-02-28T00:48:19.988553",
     "exception": false,
     "start_time": "2025-02-28T00:48:19.978087",
     "status": "completed"
    },
    "tags": []
   },
   "source": [
    "**🔍 Step 1: Check for Overfitting**"
   ]
  },
  {
   "cell_type": "code",
   "execution_count": 16,
   "id": "da3b7979",
   "metadata": {
    "execution": {
     "iopub.execute_input": "2025-02-28T00:48:20.012989Z",
     "iopub.status.busy": "2025-02-28T00:48:20.012671Z",
     "iopub.status.idle": "2025-02-28T00:48:20.044641Z",
     "shell.execute_reply": "2025-02-28T00:48:20.042438Z"
    },
    "papermill": {
     "duration": 0.047575,
     "end_time": "2025-02-28T00:48:20.046766",
     "exception": false,
     "start_time": "2025-02-28T00:48:19.999191",
     "status": "completed"
    },
    "tags": []
   },
   "outputs": [
    {
     "name": "stdout",
     "output_type": "stream",
     "text": [
      "Training Accuracy: 0.9999\n",
      "Test Accuracy: 0.9957\n"
     ]
    }
   ],
   "source": [
    "train_acc = xgb_model.score(X_train, y_train)\n",
    "test_acc = xgb_model.score(X_test, y_test)\n",
    "\n",
    "print(f\"Training Accuracy: {train_acc:.4f}\")\n",
    "print(f\"Test Accuracy: {test_acc:.4f}\")"
   ]
  },
  {
   "cell_type": "markdown",
   "id": "6f5a862f",
   "metadata": {
    "papermill": {
     "duration": 0.011289,
     "end_time": "2025-02-28T00:48:20.073957",
     "exception": false,
     "start_time": "2025-02-28T00:48:20.062668",
     "status": "completed"
    },
    "tags": []
   },
   "source": [
    "* ✅ If training and test accuracy are close → No overfitting!\n",
    "* ⚠️ If training accuracy is 100% but test accuracy drops → Model is overfitting"
   ]
  },
  {
   "cell_type": "markdown",
   "id": "693fbd32",
   "metadata": {
    "papermill": {
     "duration": 0.010856,
     "end_time": "2025-02-28T00:48:20.096390",
     "exception": false,
     "start_time": "2025-02-28T00:48:20.085534",
     "status": "completed"
    },
    "tags": []
   },
   "source": [
    "***🔍 Step 2: Check Precision & Recall***"
   ]
  },
  {
   "cell_type": "markdown",
   "id": "e836f61b",
   "metadata": {
    "papermill": {
     "duration": 0.011075,
     "end_time": "2025-02-28T00:48:20.118872",
     "exception": false,
     "start_time": "2025-02-28T00:48:20.107797",
     "status": "completed"
    },
    "tags": []
   },
   "source": [
    "*A fraud detection model is not just about accuracy!*\n",
    "\n",
    "*Precision & Recall tell us if the model really detects fraud correctly.*"
   ]
  },
  {
   "cell_type": "code",
   "execution_count": 17,
   "id": "7141fcbc",
   "metadata": {
    "execution": {
     "iopub.execute_input": "2025-02-28T00:48:20.143568Z",
     "iopub.status.busy": "2025-02-28T00:48:20.143181Z",
     "iopub.status.idle": "2025-02-28T00:48:20.159389Z",
     "shell.execute_reply": "2025-02-28T00:48:20.158183Z"
    },
    "papermill": {
     "duration": 0.030145,
     "end_time": "2025-02-28T00:48:20.160878",
     "exception": false,
     "start_time": "2025-02-28T00:48:20.130733",
     "status": "completed"
    },
    "tags": []
   },
   "outputs": [
    {
     "name": "stdout",
     "output_type": "stream",
     "text": [
      "              precision    recall  f1-score   support\n",
      "\n",
      "           0       1.00      0.99      1.00      1622\n",
      "           1       0.99      1.00      1.00      1664\n",
      "\n",
      "    accuracy                           1.00      3286\n",
      "   macro avg       1.00      1.00      1.00      3286\n",
      "weighted avg       1.00      1.00      1.00      3286\n",
      "\n"
     ]
    }
   ],
   "source": [
    "print(classification_report(y_test, y_pred_xgb))"
   ]
  },
  {
   "cell_type": "markdown",
   "id": "e5fc1df5",
   "metadata": {
    "papermill": {
     "duration": 0.011101,
     "end_time": "2025-02-28T00:48:20.183814",
     "exception": false,
     "start_time": "2025-02-28T00:48:20.172713",
     "status": "completed"
    },
    "tags": []
   },
   "source": [
    "> Precision: Out of the detected fraud cases, how many are actually fraud?\n",
    "\n",
    "> Recall: Out of all actual fraud cases, how many did the model detect?\n",
    "\n",
    "* ✅ Ideal Model: High precision & recall (not just accuracy).\n",
    "* ⚠️ If Precision is high but Recall is low → Model is missing fraud cases!"
   ]
  },
  {
   "cell_type": "markdown",
   "id": "38f590ff",
   "metadata": {
    "papermill": {
     "duration": 0.01101,
     "end_time": "2025-02-28T00:48:20.205984",
     "exception": false,
     "start_time": "2025-02-28T00:48:20.194974",
     "status": "completed"
    },
    "tags": []
   },
   "source": [
    "***🔍 Step 3: Cross-Validation for More Reliable Results***"
   ]
  },
  {
   "cell_type": "markdown",
   "id": "5aa9e685",
   "metadata": {
    "papermill": {
     "duration": 0.010964,
     "end_time": "2025-02-28T00:48:20.228223",
     "exception": false,
     "start_time": "2025-02-28T00:48:20.217259",
     "status": "completed"
    },
    "tags": []
   },
   "source": [
    "*Instead of testing once, i'll split the dataset multiple times and train the model on different parts.\n",
    "This will confirm if the model is really robust.*"
   ]
  },
  {
   "cell_type": "code",
   "execution_count": 18,
   "id": "c29b74f1",
   "metadata": {
    "execution": {
     "iopub.execute_input": "2025-02-28T00:48:20.251991Z",
     "iopub.status.busy": "2025-02-28T00:48:20.251637Z",
     "iopub.status.idle": "2025-02-28T00:48:20.937599Z",
     "shell.execute_reply": "2025-02-28T00:48:20.936548Z"
    },
    "papermill": {
     "duration": 0.70001,
     "end_time": "2025-02-28T00:48:20.939553",
     "exception": false,
     "start_time": "2025-02-28T00:48:20.239543",
     "status": "completed"
    },
    "tags": []
   },
   "outputs": [
    {
     "name": "stdout",
     "output_type": "stream",
     "text": [
      "Cross-validation Accuracy Scores: [0.99300061 0.99452055 0.9957382  0.99452055 0.99238965]\n",
      "Mean Accuracy: 0.9940\n"
     ]
    }
   ],
   "source": [
    "from sklearn.model_selection import cross_val_score\n",
    "\n",
    "cv_scores = cross_val_score(xgb_model, X, y, cv=5, scoring='accuracy')\n",
    "\n",
    "print(f\"Cross-validation Accuracy Scores: {cv_scores}\")\n",
    "print(f\"Mean Accuracy: {cv_scores.mean():.4f}\") "
   ]
  },
  {
   "cell_type": "markdown",
   "id": "0d7d8f0e",
   "metadata": {
    "papermill": {
     "duration": 0.010114,
     "end_time": "2025-02-28T00:48:20.962248",
     "exception": false,
     "start_time": "2025-02-28T00:48:20.952134",
     "status": "completed"
    },
    "tags": []
   },
   "source": [
    "> ✅ If accuracy is consistent across all splits → Model is reliable!\n",
    "\n",
    "> ⚠️ If accuracy varies a lot → Model might not generalize well."
   ]
  },
  {
   "cell_type": "markdown",
   "id": "c477d6bf",
   "metadata": {
    "papermill": {
     "duration": 0.01069,
     "end_time": "2025-02-28T00:48:20.983292",
     "exception": false,
     "start_time": "2025-02-28T00:48:20.972602",
     "status": "completed"
    },
    "tags": []
   },
   "source": [
    "***🔍 Step 4: Look at Feature Importance***"
   ]
  },
  {
   "cell_type": "markdown",
   "id": "c0362342",
   "metadata": {
    "papermill": {
     "duration": 0.011108,
     "end_time": "2025-02-28T00:48:21.005085",
     "exception": false,
     "start_time": "2025-02-28T00:48:20.993977",
     "status": "completed"
    },
    "tags": []
   },
   "source": [
    "> XGBoost lets us see which features are most important for detecting fraud."
   ]
  },
  {
   "cell_type": "markdown",
   "id": "5043da19",
   "metadata": {
    "papermill": {
     "duration": 0.010171,
     "end_time": "2025-02-28T00:48:21.026328",
     "exception": false,
     "start_time": "2025-02-28T00:48:21.016157",
     "status": "completed"
    },
    "tags": []
   },
   "source": [
    "* ✅ If expected fraud-related features are important (e.g., transaction amount) → Good!\n",
    "  \n",
    "* ⚠️ If unimportant features are at the top → Model might be learning something weird."
   ]
  },
  {
   "cell_type": "code",
   "execution_count": 19,
   "id": "0dce72a2",
   "metadata": {
    "execution": {
     "iopub.execute_input": "2025-02-28T00:48:21.049255Z",
     "iopub.status.busy": "2025-02-28T00:48:21.048940Z",
     "iopub.status.idle": "2025-02-28T00:48:21.267870Z",
     "shell.execute_reply": "2025-02-28T00:48:21.266727Z"
    },
    "papermill": {
     "duration": 0.232334,
     "end_time": "2025-02-28T00:48:21.269324",
     "exception": false,
     "start_time": "2025-02-28T00:48:21.036990",
     "status": "completed"
    },
    "tags": []
   },
   "outputs": [
    {
     "data": {
      "image/png": "[encoded data removed]",
      "text/plain": [
       "<Figure size 640x480 with 1 Axes>"
      ]
     },
     "metadata": {},
     "output_type": "display_data"
    }
   ],
   "source": [
    "xgb.plot_importance(xgb_model, max_num_features=10)\n",
    "plt.show()"
   ]
  },
  {
   "cell_type": "code",
   "execution_count": 20,
   "id": "ab27d512",
   "metadata": {
    "execution": {
     "iopub.execute_input": "2025-02-28T00:48:21.293711Z",
     "iopub.status.busy": "2025-02-28T00:48:21.293443Z",
     "iopub.status.idle": "2025-02-28T00:48:21.326294Z",
     "shell.execute_reply": "2025-02-28T00:48:21.325425Z"
    },
    "papermill": {
     "duration": 0.046129,
     "end_time": "2025-02-28T00:48:21.327616",
     "exception": false,
     "start_time": "2025-02-28T00:48:21.281487",
     "status": "completed"
    },
    "tags": []
   },
   "outputs": [
    {
     "name": "stdout",
     "output_type": "stream",
     "text": [
      "✅ Predictions saved as fraud_predictions.csv\n"
     ]
    }
   ],
   "source": [
    "y_pred = xgb_model.predict(X_test)\n",
    "results_df = X_test.copy()\n",
    "results_df['Predicted_Fraud'] = y_pred\n",
    "results_df['Actual_Fraud'] = y_test.values  \n",
    "results_df.to_csv(\"/kaggle/working/fraud_predictions.csv\", index=False)\n",
    "print(\"✅ Predictions saved as fraud_predictions.csv\")"
   ]
  }
 ],
 "metadata": {
  "kaggle": {
   "accelerator": "none",
   "dataSources": [
    {
     "datasetId": 1069,
     "sourceId": 1940,
     "sourceType": "datasetVersion"
    }
   ],
   "dockerImageVersionId": 30918,
   "isGpuEnabled": false,
   "isInternetEnabled": true,
   "language": "python",
   "sourceType": "notebook"
  },
  "kernelspec": {
   "display_name": "Python 3",
   "language": "python",
   "name": "python3"
  },
  "language_info": {
   "codemirror_mode": {
    "name": "ipython",
    "version": 3
   },
   "file_extension": ".py",
   "mimetype": "text/x-python",
   "name": "python",
   "nbconvert_exporter": "python",
   "pygments_lexer": "ipython3",
   "version": "3.10.12"
  },
  "papermill": {
   "default_parameters": {},
   "duration": 38.327479,
   "end_time": "2025-02-28T00:48:22.258462",
   "environment_variables": {},
   "exception": null,
   "input_path": "__notebook__.ipynb",
   "output_path": "__notebook__.ipynb",
   "parameters": {},
   "start_time": "2025-02-28T00:47:43.930983",
   "version": "2.6.0"
  }
 },
 "nbformat": 4,
 "nbformat_minor": 5
}
